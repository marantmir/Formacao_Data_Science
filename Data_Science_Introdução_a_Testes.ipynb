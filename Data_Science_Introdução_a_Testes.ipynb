{
  "nbformat": 4,
  "nbformat_minor": 0,
  "metadata": {
    "colab": {
      "name": "Data Science - Introdução a Testes.ipynb",
      "provenance": [],
      "authorship_tag": "ABX9TyPLpew1GHFo83iph2zFfFmX",
      "include_colab_link": true
    },
    "kernelspec": {
      "name": "python3",
      "display_name": "Python 3"
    },
    "language_info": {
      "name": "python"
    }
  },
  "cells": [
    {
      "cell_type": "markdown",
      "metadata": {
        "id": "view-in-github",
        "colab_type": "text"
      },
      "source": [
        "<a href=\"https://colab.research.google.com/github/marantmir/curso_formacao_data_science/blob/main/Data_Science_Introdu%C3%A7%C3%A3o_a_Testes.ipynb\" target=\"_parent\"><img src=\"https://colab.research.google.com/assets/colab-badge.svg\" alt=\"Open In Colab\"/></a>"
      ]
    },
    {
      "cell_type": "markdown",
      "metadata": {
        "id": "AHaIguMg2ipn"
      },
      "source": [
        "# Limpando os dados e visualizando uma distribuição"
      ]
    },
    {
      "cell_type": "markdown",
      "metadata": {
        "id": "LaqA57rQ2qNY"
      },
      "source": [
        "## Visualizando e limpando o TMDB 5000"
      ]
    },
    {
      "cell_type": "code",
      "metadata": {
        "colab": {
          "base_uri": "https://localhost:8080/",
          "height": 0
        },
        "id": "HGALSmUK5X4j",
        "outputId": "9bdbe1a1-fb2a-4308-8a47-13ade31bccf0"
      },
      "source": [
        "# Importando a biblioteca\n",
        "import pandas as pd\n",
        "# Lendos os dados do dataset\n",
        "tmdb = pd.read_csv('tmdb_5000_movies.csv')\n",
        "# Exibindo os 5 primeiros registros do dataset\n",
        "tmdb.head()"
      ],
      "execution_count": 2,
      "outputs": [
        {
          "output_type": "execute_result",
          "data": {
            "text/html": [
              "<div>\n",
              "<style scoped>\n",
              "    .dataframe tbody tr th:only-of-type {\n",
              "        vertical-align: middle;\n",
              "    }\n",
              "\n",
              "    .dataframe tbody tr th {\n",
              "        vertical-align: top;\n",
              "    }\n",
              "\n",
              "    .dataframe thead th {\n",
              "        text-align: right;\n",
              "    }\n",
              "</style>\n",
              "<table border=\"1\" class=\"dataframe\">\n",
              "  <thead>\n",
              "    <tr style=\"text-align: right;\">\n",
              "      <th></th>\n",
              "      <th>budget</th>\n",
              "      <th>genres</th>\n",
              "      <th>homepage</th>\n",
              "      <th>id</th>\n",
              "      <th>keywords</th>\n",
              "      <th>original_language</th>\n",
              "      <th>original_title</th>\n",
              "      <th>overview</th>\n",
              "      <th>popularity</th>\n",
              "      <th>production_companies</th>\n",
              "      <th>production_countries</th>\n",
              "      <th>release_date</th>\n",
              "      <th>revenue</th>\n",
              "      <th>runtime</th>\n",
              "      <th>spoken_languages</th>\n",
              "      <th>status</th>\n",
              "      <th>tagline</th>\n",
              "      <th>title</th>\n",
              "      <th>vote_average</th>\n",
              "      <th>vote_count</th>\n",
              "    </tr>\n",
              "  </thead>\n",
              "  <tbody>\n",
              "    <tr>\n",
              "      <th>0</th>\n",
              "      <td>237000000</td>\n",
              "      <td>[{\"id\": 28, \"name\": \"Action\"}, {\"id\": 12, \"nam...</td>\n",
              "      <td>http://www.avatarmovie.com/</td>\n",
              "      <td>19995</td>\n",
              "      <td>[{\"id\": 1463, \"name\": \"culture clash\"}, {\"id\":...</td>\n",
              "      <td>en</td>\n",
              "      <td>Avatar</td>\n",
              "      <td>In the 22nd century, a paraplegic Marine is di...</td>\n",
              "      <td>150.437577</td>\n",
              "      <td>[{\"name\": \"Ingenious Film Partners\", \"id\": 289...</td>\n",
              "      <td>[{\"iso_3166_1\": \"US\", \"name\": \"United States o...</td>\n",
              "      <td>2009-12-10</td>\n",
              "      <td>2787965087</td>\n",
              "      <td>162.0</td>\n",
              "      <td>[{\"iso_639_1\": \"en\", \"name\": \"English\"}, {\"iso...</td>\n",
              "      <td>Released</td>\n",
              "      <td>Enter the World of Pandora.</td>\n",
              "      <td>Avatar</td>\n",
              "      <td>7.2</td>\n",
              "      <td>11800</td>\n",
              "    </tr>\n",
              "    <tr>\n",
              "      <th>1</th>\n",
              "      <td>300000000</td>\n",
              "      <td>[{\"id\": 12, \"name\": \"Adventure\"}, {\"id\": 14, \"...</td>\n",
              "      <td>http://disney.go.com/disneypictures/pirates/</td>\n",
              "      <td>285</td>\n",
              "      <td>[{\"id\": 270, \"name\": \"ocean\"}, {\"id\": 726, \"na...</td>\n",
              "      <td>en</td>\n",
              "      <td>Pirates of the Caribbean: At World's End</td>\n",
              "      <td>Captain Barbossa, long believed to be dead, ha...</td>\n",
              "      <td>139.082615</td>\n",
              "      <td>[{\"name\": \"Walt Disney Pictures\", \"id\": 2}, {\"...</td>\n",
              "      <td>[{\"iso_3166_1\": \"US\", \"name\": \"United States o...</td>\n",
              "      <td>2007-05-19</td>\n",
              "      <td>961000000</td>\n",
              "      <td>169.0</td>\n",
              "      <td>[{\"iso_639_1\": \"en\", \"name\": \"English\"}]</td>\n",
              "      <td>Released</td>\n",
              "      <td>At the end of the world, the adventure begins.</td>\n",
              "      <td>Pirates of the Caribbean: At World's End</td>\n",
              "      <td>6.9</td>\n",
              "      <td>4500</td>\n",
              "    </tr>\n",
              "    <tr>\n",
              "      <th>2</th>\n",
              "      <td>245000000</td>\n",
              "      <td>[{\"id\": 28, \"name\": \"Action\"}, {\"id\": 12, \"nam...</td>\n",
              "      <td>http://www.sonypictures.com/movies/spectre/</td>\n",
              "      <td>206647</td>\n",
              "      <td>[{\"id\": 470, \"name\": \"spy\"}, {\"id\": 818, \"name...</td>\n",
              "      <td>en</td>\n",
              "      <td>Spectre</td>\n",
              "      <td>A cryptic message from Bond’s past sends him o...</td>\n",
              "      <td>107.376788</td>\n",
              "      <td>[{\"name\": \"Columbia Pictures\", \"id\": 5}, {\"nam...</td>\n",
              "      <td>[{\"iso_3166_1\": \"GB\", \"name\": \"United Kingdom\"...</td>\n",
              "      <td>2015-10-26</td>\n",
              "      <td>880674609</td>\n",
              "      <td>148.0</td>\n",
              "      <td>[{\"iso_639_1\": \"fr\", \"name\": \"Fran\\u00e7ais\"},...</td>\n",
              "      <td>Released</td>\n",
              "      <td>A Plan No One Escapes</td>\n",
              "      <td>Spectre</td>\n",
              "      <td>6.3</td>\n",
              "      <td>4466</td>\n",
              "    </tr>\n",
              "    <tr>\n",
              "      <th>3</th>\n",
              "      <td>250000000</td>\n",
              "      <td>[{\"id\": 28, \"name\": \"Action\"}, {\"id\": 80, \"nam...</td>\n",
              "      <td>http://www.thedarkknightrises.com/</td>\n",
              "      <td>49026</td>\n",
              "      <td>[{\"id\": 849, \"name\": \"dc comics\"}, {\"id\": 853,...</td>\n",
              "      <td>en</td>\n",
              "      <td>The Dark Knight Rises</td>\n",
              "      <td>Following the death of District Attorney Harve...</td>\n",
              "      <td>112.312950</td>\n",
              "      <td>[{\"name\": \"Legendary Pictures\", \"id\": 923}, {\"...</td>\n",
              "      <td>[{\"iso_3166_1\": \"US\", \"name\": \"United States o...</td>\n",
              "      <td>2012-07-16</td>\n",
              "      <td>1084939099</td>\n",
              "      <td>165.0</td>\n",
              "      <td>[{\"iso_639_1\": \"en\", \"name\": \"English\"}]</td>\n",
              "      <td>Released</td>\n",
              "      <td>The Legend Ends</td>\n",
              "      <td>The Dark Knight Rises</td>\n",
              "      <td>7.6</td>\n",
              "      <td>9106</td>\n",
              "    </tr>\n",
              "    <tr>\n",
              "      <th>4</th>\n",
              "      <td>260000000</td>\n",
              "      <td>[{\"id\": 28, \"name\": \"Action\"}, {\"id\": 12, \"nam...</td>\n",
              "      <td>http://movies.disney.com/john-carter</td>\n",
              "      <td>49529</td>\n",
              "      <td>[{\"id\": 818, \"name\": \"based on novel\"}, {\"id\":...</td>\n",
              "      <td>en</td>\n",
              "      <td>John Carter</td>\n",
              "      <td>John Carter is a war-weary, former military ca...</td>\n",
              "      <td>43.926995</td>\n",
              "      <td>[{\"name\": \"Walt Disney Pictures\", \"id\": 2}]</td>\n",
              "      <td>[{\"iso_3166_1\": \"US\", \"name\": \"United States o...</td>\n",
              "      <td>2012-03-07</td>\n",
              "      <td>284139100</td>\n",
              "      <td>132.0</td>\n",
              "      <td>[{\"iso_639_1\": \"en\", \"name\": \"English\"}]</td>\n",
              "      <td>Released</td>\n",
              "      <td>Lost in our world, found in another.</td>\n",
              "      <td>John Carter</td>\n",
              "      <td>6.1</td>\n",
              "      <td>2124</td>\n",
              "    </tr>\n",
              "  </tbody>\n",
              "</table>\n",
              "</div>"
            ],
            "text/plain": [
              "      budget  ... vote_count\n",
              "0  237000000  ...      11800\n",
              "1  300000000  ...       4500\n",
              "2  245000000  ...       4466\n",
              "3  250000000  ...       9106\n",
              "4  260000000  ...       2124\n",
              "\n",
              "[5 rows x 20 columns]"
            ]
          },
          "metadata": {},
          "execution_count": 2
        }
      ]
    },
    {
      "cell_type": "code",
      "metadata": {
        "colab": {
          "base_uri": "https://localhost:8080/",
          "height": 0
        },
        "id": "1qgEQW_77gtO",
        "outputId": "631d728e-a266-4f06-f1f3-484ad87868f4"
      },
      "source": [
        "# Utilizando o comando describe para mostrar algumas estatísticas\n",
        "tmdb.describe()"
      ],
      "execution_count": 3,
      "outputs": [
        {
          "output_type": "execute_result",
          "data": {
            "text/html": [
              "<div>\n",
              "<style scoped>\n",
              "    .dataframe tbody tr th:only-of-type {\n",
              "        vertical-align: middle;\n",
              "    }\n",
              "\n",
              "    .dataframe tbody tr th {\n",
              "        vertical-align: top;\n",
              "    }\n",
              "\n",
              "    .dataframe thead th {\n",
              "        text-align: right;\n",
              "    }\n",
              "</style>\n",
              "<table border=\"1\" class=\"dataframe\">\n",
              "  <thead>\n",
              "    <tr style=\"text-align: right;\">\n",
              "      <th></th>\n",
              "      <th>budget</th>\n",
              "      <th>id</th>\n",
              "      <th>popularity</th>\n",
              "      <th>revenue</th>\n",
              "      <th>runtime</th>\n",
              "      <th>vote_average</th>\n",
              "      <th>vote_count</th>\n",
              "    </tr>\n",
              "  </thead>\n",
              "  <tbody>\n",
              "    <tr>\n",
              "      <th>count</th>\n",
              "      <td>4.803000e+03</td>\n",
              "      <td>4803.000000</td>\n",
              "      <td>4803.000000</td>\n",
              "      <td>4.803000e+03</td>\n",
              "      <td>4801.000000</td>\n",
              "      <td>4803.000000</td>\n",
              "      <td>4803.000000</td>\n",
              "    </tr>\n",
              "    <tr>\n",
              "      <th>mean</th>\n",
              "      <td>2.904504e+07</td>\n",
              "      <td>57165.484281</td>\n",
              "      <td>21.492301</td>\n",
              "      <td>8.226064e+07</td>\n",
              "      <td>106.875859</td>\n",
              "      <td>6.092172</td>\n",
              "      <td>690.217989</td>\n",
              "    </tr>\n",
              "    <tr>\n",
              "      <th>std</th>\n",
              "      <td>4.072239e+07</td>\n",
              "      <td>88694.614033</td>\n",
              "      <td>31.816650</td>\n",
              "      <td>1.628571e+08</td>\n",
              "      <td>22.611935</td>\n",
              "      <td>1.194612</td>\n",
              "      <td>1234.585891</td>\n",
              "    </tr>\n",
              "    <tr>\n",
              "      <th>min</th>\n",
              "      <td>0.000000e+00</td>\n",
              "      <td>5.000000</td>\n",
              "      <td>0.000000</td>\n",
              "      <td>0.000000e+00</td>\n",
              "      <td>0.000000</td>\n",
              "      <td>0.000000</td>\n",
              "      <td>0.000000</td>\n",
              "    </tr>\n",
              "    <tr>\n",
              "      <th>25%</th>\n",
              "      <td>7.900000e+05</td>\n",
              "      <td>9014.500000</td>\n",
              "      <td>4.668070</td>\n",
              "      <td>0.000000e+00</td>\n",
              "      <td>94.000000</td>\n",
              "      <td>5.600000</td>\n",
              "      <td>54.000000</td>\n",
              "    </tr>\n",
              "    <tr>\n",
              "      <th>50%</th>\n",
              "      <td>1.500000e+07</td>\n",
              "      <td>14629.000000</td>\n",
              "      <td>12.921594</td>\n",
              "      <td>1.917000e+07</td>\n",
              "      <td>103.000000</td>\n",
              "      <td>6.200000</td>\n",
              "      <td>235.000000</td>\n",
              "    </tr>\n",
              "    <tr>\n",
              "      <th>75%</th>\n",
              "      <td>4.000000e+07</td>\n",
              "      <td>58610.500000</td>\n",
              "      <td>28.313505</td>\n",
              "      <td>9.291719e+07</td>\n",
              "      <td>118.000000</td>\n",
              "      <td>6.800000</td>\n",
              "      <td>737.000000</td>\n",
              "    </tr>\n",
              "    <tr>\n",
              "      <th>max</th>\n",
              "      <td>3.800000e+08</td>\n",
              "      <td>459488.000000</td>\n",
              "      <td>875.581305</td>\n",
              "      <td>2.787965e+09</td>\n",
              "      <td>338.000000</td>\n",
              "      <td>10.000000</td>\n",
              "      <td>13752.000000</td>\n",
              "    </tr>\n",
              "  </tbody>\n",
              "</table>\n",
              "</div>"
            ],
            "text/plain": [
              "             budget             id  ...  vote_average    vote_count\n",
              "count  4.803000e+03    4803.000000  ...   4803.000000   4803.000000\n",
              "mean   2.904504e+07   57165.484281  ...      6.092172    690.217989\n",
              "std    4.072239e+07   88694.614033  ...      1.194612   1234.585891\n",
              "min    0.000000e+00       5.000000  ...      0.000000      0.000000\n",
              "25%    7.900000e+05    9014.500000  ...      5.600000     54.000000\n",
              "50%    1.500000e+07   14629.000000  ...      6.200000    235.000000\n",
              "75%    4.000000e+07   58610.500000  ...      6.800000    737.000000\n",
              "max    3.800000e+08  459488.000000  ...     10.000000  13752.000000\n",
              "\n",
              "[8 rows x 7 columns]"
            ]
          },
          "metadata": {},
          "execution_count": 3
        }
      ]
    },
    {
      "cell_type": "code",
      "metadata": {
        "colab": {
          "base_uri": "https://localhost:8080/",
          "height": 0
        },
        "id": "9lCAkyZb8t8a",
        "outputId": "2f76a0c2-2f96-42e2-a185-ee67c162178e"
      },
      "source": [
        "# Importando a biblioteca\n",
        "import seaborn as sns\n",
        "# Gerando um histograma utilizando a variável vote_average\n",
        "sns.distplot(tmdb.vote_average)"
      ],
      "execution_count": 4,
      "outputs": [
        {
          "output_type": "stream",
          "name": "stderr",
          "text": [
            "/usr/local/lib/python3.7/dist-packages/seaborn/distributions.py:2619: FutureWarning: `distplot` is a deprecated function and will be removed in a future version. Please adapt your code to use either `displot` (a figure-level function with similar flexibility) or `histplot` (an axes-level function for histograms).\n",
            "  warnings.warn(msg, FutureWarning)\n"
          ]
        },
        {
          "output_type": "execute_result",
          "data": {
            "text/plain": [
              "<matplotlib.axes._subplots.AxesSubplot at 0x7f1fb1cf3090>"
            ]
          },
          "metadata": {},
          "execution_count": 4
        },
        {
          "output_type": "display_data",
          "data": {
            "image/png": "[encoded data removed]",
            "text/plain": [
              "<Figure size 432x288 with 1 Axes>"
            ]
          },
          "metadata": {
            "needs_background": "light"
          }
        }
      ]
    },
    {
      "cell_type": "code",
      "metadata": {
        "colab": {
          "base_uri": "https://localhost:8080/",
          "height": 0
        },
        "id": "VqxuBQ4a-BE2",
        "outputId": "f64aab93-4e10-460c-ce80-3993f7b4df59"
      },
      "source": [
        "# Guardando o histograma gerado em uma variável\n",
        "ax = sns.distplot(tmdb.vote_average)\n",
        "# Nomeando os títulos dos eixos x e y\n",
        "ax.set(xlabel = 'Nota média', ylabel = 'Densidade')\n",
        "# Inserindo título\n",
        "ax.set_title('Média de votos em filmes no TMDB 5000')"
      ],
      "execution_count": 5,
      "outputs": [
        {
          "output_type": "stream",
          "name": "stderr",
          "text": [
            "/usr/local/lib/python3.7/dist-packages/seaborn/distributions.py:2619: FutureWarning: `distplot` is a deprecated function and will be removed in a future version. Please adapt your code to use either `displot` (a figure-level function with similar flexibility) or `histplot` (an axes-level function for histograms).\n",
            "  warnings.warn(msg, FutureWarning)\n"
          ]
        },
        {
          "output_type": "execute_result",
          "data": {
            "text/plain": [
              "Text(0.5, 1.0, 'Média de votos em filmes no TMDB 5000')"
            ]
          },
          "metadata": {},
          "execution_count": 5
        },
        {
          "output_type": "display_data",
          "data": {
            "image/png": "[encoded data removed]",
            "text/plain": [
              "<Figure size 432x288 with 1 Axes>"
            ]
          },
          "metadata": {
            "needs_background": "light"
          }
        }
      ]
    },
    {
      "cell_type": "code",
      "metadata": {
        "colab": {
          "base_uri": "https://localhost:8080/",
          "height": 0
        },
        "id": "v795QWsKBa01",
        "outputId": "9aa73d7d-d8a3-4d50-a8a4-7d2abe4fd7b6"
      },
      "source": [
        "# Demonstrando os valores 0 modificando a normalização e o kde para que possamos remover a linha\n",
        "ax = sns.distplot(tmdb.vote_average, norm_hist= False, kde=False)\n",
        "# Nomeando os títulos dos eixos x e y\n",
        "ax.set(xlabel = 'Nota média', ylabel = 'Densidade')\n",
        "# Inserindo título\n",
        "ax.set_title('Média de votos em filmes no TMDB 5000')"
      ],
      "execution_count": 6,
      "outputs": [
        {
          "output_type": "stream",
          "name": "stderr",
          "text": [
            "/usr/local/lib/python3.7/dist-packages/seaborn/distributions.py:2619: FutureWarning: `distplot` is a deprecated function and will be removed in a future version. Please adapt your code to use either `displot` (a figure-level function with similar flexibility) or `histplot` (an axes-level function for histograms).\n",
            "  warnings.warn(msg, FutureWarning)\n"
          ]
        },
        {
          "output_type": "execute_result",
          "data": {
            "text/plain": [
              "Text(0.5, 1.0, 'Média de votos em filmes no TMDB 5000')"
            ]
          },
          "metadata": {},
          "execution_count": 6
        },
        {
          "output_type": "display_data",
          "data": {
            "image/png": "[encoded data removed]",
            "text/plain": [
              "<Figure size 432x288 with 1 Axes>"
            ]
          },
          "metadata": {
            "needs_background": "light"
          }
        }
      ]
    },
    {
      "cell_type": "code",
      "metadata": {
        "colab": {
          "base_uri": "https://localhost:8080/",
          "height": 0
        },
        "id": "S-VxzPaACe4D",
        "outputId": "64862f72-0eec-4d61-c69a-b861c81fb0a3"
      },
      "source": [
        "# Percebemos que temos aproximadamente 70 notas 0 no dataset\n",
        "# Agora visualizaremos no boxplot\n",
        "sns.boxplot(tmdb.vote_average)"
      ],
      "execution_count": 7,
      "outputs": [
        {
          "output_type": "stream",
          "name": "stderr",
          "text": [
            "/usr/local/lib/python3.7/dist-packages/seaborn/_decorators.py:43: FutureWarning: Pass the following variable as a keyword arg: x. From version 0.12, the only valid positional argument will be `data`, and passing other arguments without an explicit keyword will result in an error or misinterpretation.\n",
            "  FutureWarning\n"
          ]
        },
        {
          "output_type": "execute_result",
          "data": {
            "text/plain": [
              "<matplotlib.axes._subplots.AxesSubplot at 0x7f1faeaf0490>"
            ]
          },
          "metadata": {},
          "execution_count": 7
        },
        {
          "output_type": "display_data",
          "data": {
            "image/png": "[encoded data removed]",
            "text/plain": [
              "<Figure size 432x288 with 1 Axes>"
            ]
          },
          "metadata": {
            "needs_background": "light"
          }
        }
      ]
    },
    {
      "cell_type": "code",
      "metadata": {
        "colab": {
          "base_uri": "https://localhost:8080/",
          "height": 0
        },
        "id": "ZRbJ2zSFDcRV",
        "outputId": "cb1c59dd-dd45-4d87-bb94-b00893b9e542"
      },
      "source": [
        "# Refinando o boxplot inserindo título no eixo x e título\n",
        "ax = sns.boxplot(tmdb.vote_average)\n",
        "ax.set(xlabel='Nota média do ffilme')\n",
        "ax.set_title('Distribuição de nota média dos filmes do TMDB 5000')"
      ],
      "execution_count": 8,
      "outputs": [
        {
          "output_type": "stream",
          "name": "stderr",
          "text": [
            "/usr/local/lib/python3.7/dist-packages/seaborn/_decorators.py:43: FutureWarning: Pass the following variable as a keyword arg: x. From version 0.12, the only valid positional argument will be `data`, and passing other arguments without an explicit keyword will result in an error or misinterpretation.\n",
            "  FutureWarning\n"
          ]
        },
        {
          "output_type": "execute_result",
          "data": {
            "text/plain": [
              "Text(0.5, 1.0, 'Distribuição de nota média dos filmes do TMDB 5000')"
            ]
          },
          "metadata": {},
          "execution_count": 8
        },
        {
          "output_type": "display_data",
          "data": {
            "image/png": "[encoded data removed]",
            "text/plain": [
              "<Figure size 432x288 with 1 Axes>"
            ]
          },
          "metadata": {
            "needs_background": "light"
          }
        }
      ]
    },
    {
      "cell_type": "code",
      "metadata": {
        "colab": {
          "base_uri": "https://localhost:8080/",
          "height": 0
        },
        "id": "3UXdIoawE0Ki",
        "outputId": "f8ea43c4-f4b5-4f73-945c-818fdf290c4e"
      },
      "source": [
        "# Listando os registros com nota igual a 0\n",
        "tmdb.query('vote_average == 0')"
      ],
      "execution_count": 9,
      "outputs": [
        {
          "output_type": "execute_result",
          "data": {
            "text/html": [
              "<div>\n",
              "<style scoped>\n",
              "    .dataframe tbody tr th:only-of-type {\n",
              "        vertical-align: middle;\n",
              "    }\n",
              "\n",
              "    .dataframe tbody tr th {\n",
              "        vertical-align: top;\n",
              "    }\n",
              "\n",
              "    .dataframe thead th {\n",
              "        text-align: right;\n",
              "    }\n",
              "</style>\n",
              "<table border=\"1\" class=\"dataframe\">\n",
              "  <thead>\n",
              "    <tr style=\"text-align: right;\">\n",
              "      <th></th>\n",
              "      <th>budget</th>\n",
              "      <th>genres</th>\n",
              "      <th>homepage</th>\n",
              "      <th>id</th>\n",
              "      <th>keywords</th>\n",
              "      <th>original_language</th>\n",
              "      <th>original_title</th>\n",
              "      <th>overview</th>\n",
              "      <th>popularity</th>\n",
              "      <th>production_companies</th>\n",
              "      <th>production_countries</th>\n",
              "      <th>release_date</th>\n",
              "      <th>revenue</th>\n",
              "      <th>runtime</th>\n",
              "      <th>spoken_languages</th>\n",
              "      <th>status</th>\n",
              "      <th>tagline</th>\n",
              "      <th>title</th>\n",
              "      <th>vote_average</th>\n",
              "      <th>vote_count</th>\n",
              "    </tr>\n",
              "  </thead>\n",
              "  <tbody>\n",
              "    <tr>\n",
              "      <th>1464</th>\n",
              "      <td>0</td>\n",
              "      <td>[{\"id\": 18, \"name\": \"Drama\"}, {\"id\": 80, \"name...</td>\n",
              "      <td>NaN</td>\n",
              "      <td>310706</td>\n",
              "      <td>[]</td>\n",
              "      <td>en</td>\n",
              "      <td>Black Water Transit</td>\n",
              "      <td>In this action thriller set in post-Katrina Ne...</td>\n",
              "      <td>0.126738</td>\n",
              "      <td>[{\"name\": \"Capitol Films\", \"id\": 826}]</td>\n",
              "      <td>[{\"iso_3166_1\": \"US\", \"name\": \"United States o...</td>\n",
              "      <td>2009-05-13</td>\n",
              "      <td>0</td>\n",
              "      <td>100.0</td>\n",
              "      <td>[{\"iso_639_1\": \"en\", \"name\": \"English\"}]</td>\n",
              "      <td>Released</td>\n",
              "      <td>NaN</td>\n",
              "      <td>Black Water Transit</td>\n",
              "      <td>0.0</td>\n",
              "      <td>0</td>\n",
              "    </tr>\n",
              "    <tr>\n",
              "      <th>3669</th>\n",
              "      <td>0</td>\n",
              "      <td>[{\"id\": 35, \"name\": \"Comedy\"}, {\"id\": 18, \"nam...</td>\n",
              "      <td>http://www.romeothemovie.com/</td>\n",
              "      <td>113406</td>\n",
              "      <td>[]</td>\n",
              "      <td>en</td>\n",
              "      <td>Should've Been Romeo</td>\n",
              "      <td>A self-centered, middle-aged pitchman for a po...</td>\n",
              "      <td>0.407030</td>\n",
              "      <td>[{\"name\": \"Phillybrook Films\", \"id\": 65147}]</td>\n",
              "      <td>[{\"iso_3166_1\": \"US\", \"name\": \"United States o...</td>\n",
              "      <td>2012-04-28</td>\n",
              "      <td>0</td>\n",
              "      <td>0.0</td>\n",
              "      <td>[{\"iso_639_1\": \"en\", \"name\": \"English\"}]</td>\n",
              "      <td>Released</td>\n",
              "      <td>Even Shakespeare didn't see this one coming.</td>\n",
              "      <td>Should've Been Romeo</td>\n",
              "      <td>0.0</td>\n",
              "      <td>0</td>\n",
              "    </tr>\n",
              "    <tr>\n",
              "      <th>3670</th>\n",
              "      <td>0</td>\n",
              "      <td>[{\"id\": 10751, \"name\": \"Family\"}]</td>\n",
              "      <td>NaN</td>\n",
              "      <td>447027</td>\n",
              "      <td>[]</td>\n",
              "      <td>en</td>\n",
              "      <td>Running Forever</td>\n",
              "      <td>After being estranged since her mother's death...</td>\n",
              "      <td>0.028756</td>\n",
              "      <td>[{\"name\": \"New Kingdom Pictures\", \"id\": 41671}]</td>\n",
              "      <td>[{\"iso_3166_1\": \"US\", \"name\": \"United States o...</td>\n",
              "      <td>2015-10-27</td>\n",
              "      <td>0</td>\n",
              "      <td>88.0</td>\n",
              "      <td>[]</td>\n",
              "      <td>Released</td>\n",
              "      <td>NaN</td>\n",
              "      <td>Running Forever</td>\n",
              "      <td>0.0</td>\n",
              "      <td>0</td>\n",
              "    </tr>\n",
              "    <tr>\n",
              "      <th>3852</th>\n",
              "      <td>0</td>\n",
              "      <td>[{\"id\": 18, \"name\": \"Drama\"}]</td>\n",
              "      <td>NaN</td>\n",
              "      <td>395766</td>\n",
              "      <td>[{\"id\": 11162, \"name\": \"miniseries\"}]</td>\n",
              "      <td>en</td>\n",
              "      <td>The Secret</td>\n",
              "      <td>The Secret is the story of a real-life double ...</td>\n",
              "      <td>0.042346</td>\n",
              "      <td>[]</td>\n",
              "      <td>[]</td>\n",
              "      <td>2016-04-29</td>\n",
              "      <td>0</td>\n",
              "      <td>200.0</td>\n",
              "      <td>[]</td>\n",
              "      <td>Released</td>\n",
              "      <td>NaN</td>\n",
              "      <td>The Secret</td>\n",
              "      <td>0.0</td>\n",
              "      <td>0</td>\n",
              "    </tr>\n",
              "    <tr>\n",
              "      <th>3855</th>\n",
              "      <td>3500000</td>\n",
              "      <td>[{\"id\": 99, \"name\": \"Documentary\"}]</td>\n",
              "      <td>http://www.timetochoose.com</td>\n",
              "      <td>370662</td>\n",
              "      <td>[{\"id\": 2210, \"name\": \"climate change\"}, {\"id\"...</td>\n",
              "      <td>en</td>\n",
              "      <td>Time to Choose</td>\n",
              "      <td>Academy Award® winning director Charles Fergus...</td>\n",
              "      <td>1.618138</td>\n",
              "      <td>[{\"name\": \"Representational Pictures\", \"id\": 8...</td>\n",
              "      <td>[{\"iso_3166_1\": \"US\", \"name\": \"United States o...</td>\n",
              "      <td>2015-09-04</td>\n",
              "      <td>0</td>\n",
              "      <td>100.0</td>\n",
              "      <td>[{\"iso_639_1\": \"en\", \"name\": \"English\"}]</td>\n",
              "      <td>Released</td>\n",
              "      <td>Climate change for good.</td>\n",
              "      <td>Time to Choose</td>\n",
              "      <td>0.0</td>\n",
              "      <td>0</td>\n",
              "    </tr>\n",
              "    <tr>\n",
              "      <th>...</th>\n",
              "      <td>...</td>\n",
              "      <td>...</td>\n",
              "      <td>...</td>\n",
              "      <td>...</td>\n",
              "      <td>...</td>\n",
              "      <td>...</td>\n",
              "      <td>...</td>\n",
              "      <td>...</td>\n",
              "      <td>...</td>\n",
              "      <td>...</td>\n",
              "      <td>...</td>\n",
              "      <td>...</td>\n",
              "      <td>...</td>\n",
              "      <td>...</td>\n",
              "      <td>...</td>\n",
              "      <td>...</td>\n",
              "      <td>...</td>\n",
              "      <td>...</td>\n",
              "      <td>...</td>\n",
              "      <td>...</td>\n",
              "    </tr>\n",
              "    <tr>\n",
              "      <th>4769</th>\n",
              "      <td>0</td>\n",
              "      <td>[{\"id\": 28, \"name\": \"Action\"}, {\"id\": 37, \"nam...</td>\n",
              "      <td>NaN</td>\n",
              "      <td>69382</td>\n",
              "      <td>[]</td>\n",
              "      <td>en</td>\n",
              "      <td>The Legend of God's Gun</td>\n",
              "      <td>A gun-slinging preacher returns to the debauch...</td>\n",
              "      <td>0.003582</td>\n",
              "      <td>[]</td>\n",
              "      <td>[]</td>\n",
              "      <td>2007-07-08</td>\n",
              "      <td>0</td>\n",
              "      <td>78.0</td>\n",
              "      <td>[]</td>\n",
              "      <td>Released</td>\n",
              "      <td>NaN</td>\n",
              "      <td>The Legend of God's Gun</td>\n",
              "      <td>0.0</td>\n",
              "      <td>0</td>\n",
              "    </tr>\n",
              "    <tr>\n",
              "      <th>4771</th>\n",
              "      <td>0</td>\n",
              "      <td>[{\"id\": 27, \"name\": \"Horror\"}]</td>\n",
              "      <td>NaN</td>\n",
              "      <td>220490</td>\n",
              "      <td>[]</td>\n",
              "      <td>en</td>\n",
              "      <td>Her Cry: La Llorona Investigation</td>\n",
              "      <td>Crew of \"Paranormal Legends\" went to film thei...</td>\n",
              "      <td>0.056459</td>\n",
              "      <td>[]</td>\n",
              "      <td>[]</td>\n",
              "      <td>2013-04-19</td>\n",
              "      <td>0</td>\n",
              "      <td>89.0</td>\n",
              "      <td>[]</td>\n",
              "      <td>Released</td>\n",
              "      <td>NaN</td>\n",
              "      <td>Her Cry: La Llorona Investigation</td>\n",
              "      <td>0.0</td>\n",
              "      <td>0</td>\n",
              "    </tr>\n",
              "    <tr>\n",
              "      <th>4780</th>\n",
              "      <td>0</td>\n",
              "      <td>[{\"id\": 53, \"name\": \"Thriller\"}, {\"id\": 80, \"n...</td>\n",
              "      <td>NaN</td>\n",
              "      <td>366967</td>\n",
              "      <td>[]</td>\n",
              "      <td>en</td>\n",
              "      <td>Dutch Kills</td>\n",
              "      <td>A desperate ex-con is forced to gather his old...</td>\n",
              "      <td>0.038143</td>\n",
              "      <td>[]</td>\n",
              "      <td>[]</td>\n",
              "      <td>2015-10-02</td>\n",
              "      <td>0</td>\n",
              "      <td>90.0</td>\n",
              "      <td>[]</td>\n",
              "      <td>Released</td>\n",
              "      <td>NaN</td>\n",
              "      <td>Dutch Kills</td>\n",
              "      <td>0.0</td>\n",
              "      <td>0</td>\n",
              "    </tr>\n",
              "    <tr>\n",
              "      <th>4785</th>\n",
              "      <td>0</td>\n",
              "      <td>[{\"id\": 18, \"name\": \"Drama\"}]</td>\n",
              "      <td>NaN</td>\n",
              "      <td>287625</td>\n",
              "      <td>[]</td>\n",
              "      <td>en</td>\n",
              "      <td>Stories of Our Lives</td>\n",
              "      <td>Created by the members of a Nairobi-based arts...</td>\n",
              "      <td>0.327794</td>\n",
              "      <td>[]</td>\n",
              "      <td>[{\"iso_3166_1\": \"KE\", \"name\": \"Kenya\"}]</td>\n",
              "      <td>2014-09-05</td>\n",
              "      <td>0</td>\n",
              "      <td>60.0</td>\n",
              "      <td>[{\"iso_639_1\": \"sw\", \"name\": \"Kiswahili\"}, {\"i...</td>\n",
              "      <td>Released</td>\n",
              "      <td>NaN</td>\n",
              "      <td>Stories of Our Lives</td>\n",
              "      <td>0.0</td>\n",
              "      <td>0</td>\n",
              "    </tr>\n",
              "    <tr>\n",
              "      <th>4794</th>\n",
              "      <td>0</td>\n",
              "      <td>[{\"id\": 53, \"name\": \"Thriller\"}, {\"id\": 27, \"n...</td>\n",
              "      <td>NaN</td>\n",
              "      <td>286939</td>\n",
              "      <td>[]</td>\n",
              "      <td>en</td>\n",
              "      <td>Sanctuary: Quite a Conundrum</td>\n",
              "      <td>It should have been just a normal day of sex, ...</td>\n",
              "      <td>0.166513</td>\n",
              "      <td>[{\"name\": \"Gold Lion Films\", \"id\": 37870}, {\"n...</td>\n",
              "      <td>[{\"iso_3166_1\": \"US\", \"name\": \"United States o...</td>\n",
              "      <td>2012-01-20</td>\n",
              "      <td>0</td>\n",
              "      <td>82.0</td>\n",
              "      <td>[{\"iso_639_1\": \"en\", \"name\": \"English\"}]</td>\n",
              "      <td>Released</td>\n",
              "      <td>NaN</td>\n",
              "      <td>Sanctuary: Quite a Conundrum</td>\n",
              "      <td>0.0</td>\n",
              "      <td>0</td>\n",
              "    </tr>\n",
              "  </tbody>\n",
              "</table>\n",
              "<p>63 rows × 20 columns</p>\n",
              "</div>"
            ],
            "text/plain": [
              "       budget  ... vote_count\n",
              "1464        0  ...          0\n",
              "3669        0  ...          0\n",
              "3670        0  ...          0\n",
              "3852        0  ...          0\n",
              "3855  3500000  ...          0\n",
              "...       ...  ...        ...\n",
              "4769        0  ...          0\n",
              "4771        0  ...          0\n",
              "4780        0  ...          0\n",
              "4785        0  ...          0\n",
              "4794        0  ...          0\n",
              "\n",
              "[63 rows x 20 columns]"
            ]
          },
          "metadata": {},
          "execution_count": 9
        }
      ]
    },
    {
      "cell_type": "code",
      "metadata": {
        "colab": {
          "base_uri": "https://localhost:8080/",
          "height": 0
        },
        "id": "_GnUQRRXFwqh",
        "outputId": "48cbcb1f-9ab8-4141-a74a-8533c57f2c93"
      },
      "source": [
        "# Filtrando registros com 10 ou mais votos realizados\n",
        "tmdb_com_mais_de_10_votos = tmdb.query('vote_count >= 10')\n",
        "tmdb_com_mais_de_10_votos.describe()"
      ],
      "execution_count": 10,
      "outputs": [
        {
          "output_type": "execute_result",
          "data": {
            "text/html": [
              "<div>\n",
              "<style scoped>\n",
              "    .dataframe tbody tr th:only-of-type {\n",
              "        vertical-align: middle;\n",
              "    }\n",
              "\n",
              "    .dataframe tbody tr th {\n",
              "        vertical-align: top;\n",
              "    }\n",
              "\n",
              "    .dataframe thead th {\n",
              "        text-align: right;\n",
              "    }\n",
              "</style>\n",
              "<table border=\"1\" class=\"dataframe\">\n",
              "  <thead>\n",
              "    <tr style=\"text-align: right;\">\n",
              "      <th></th>\n",
              "      <th>budget</th>\n",
              "      <th>id</th>\n",
              "      <th>popularity</th>\n",
              "      <th>revenue</th>\n",
              "      <th>runtime</th>\n",
              "      <th>vote_average</th>\n",
              "      <th>vote_count</th>\n",
              "    </tr>\n",
              "  </thead>\n",
              "  <tbody>\n",
              "    <tr>\n",
              "      <th>count</th>\n",
              "      <td>4.392000e+03</td>\n",
              "      <td>4392.000000</td>\n",
              "      <td>4392.000000</td>\n",
              "      <td>4.392000e+03</td>\n",
              "      <td>4391.000000</td>\n",
              "      <td>4392.000000</td>\n",
              "      <td>4392.000000</td>\n",
              "    </tr>\n",
              "    <tr>\n",
              "      <th>mean</th>\n",
              "      <td>3.164545e+07</td>\n",
              "      <td>49204.119991</td>\n",
              "      <td>23.448815</td>\n",
              "      <td>8.990969e+07</td>\n",
              "      <td>108.430881</td>\n",
              "      <td>6.226935</td>\n",
              "      <td>754.441712</td>\n",
              "    </tr>\n",
              "    <tr>\n",
              "      <th>std</th>\n",
              "      <td>4.162736e+07</td>\n",
              "      <td>80136.249777</td>\n",
              "      <td>32.592158</td>\n",
              "      <td>1.682870e+08</td>\n",
              "      <td>21.014719</td>\n",
              "      <td>0.893215</td>\n",
              "      <td>1272.263761</td>\n",
              "    </tr>\n",
              "    <tr>\n",
              "      <th>min</th>\n",
              "      <td>0.000000e+00</td>\n",
              "      <td>5.000000</td>\n",
              "      <td>0.011697</td>\n",
              "      <td>0.000000e+00</td>\n",
              "      <td>0.000000</td>\n",
              "      <td>1.900000</td>\n",
              "      <td>10.000000</td>\n",
              "    </tr>\n",
              "    <tr>\n",
              "      <th>25%</th>\n",
              "      <td>2.895962e+06</td>\n",
              "      <td>8403.500000</td>\n",
              "      <td>6.512166</td>\n",
              "      <td>1.365700e+04</td>\n",
              "      <td>95.000000</td>\n",
              "      <td>5.700000</td>\n",
              "      <td>83.750000</td>\n",
              "    </tr>\n",
              "    <tr>\n",
              "      <th>50%</th>\n",
              "      <td>1.700000e+07</td>\n",
              "      <td>13084.500000</td>\n",
              "      <td>14.827784</td>\n",
              "      <td>2.685837e+07</td>\n",
              "      <td>105.000000</td>\n",
              "      <td>6.300000</td>\n",
              "      <td>288.500000</td>\n",
              "    </tr>\n",
              "    <tr>\n",
              "      <th>75%</th>\n",
              "      <td>4.200000e+07</td>\n",
              "      <td>46831.250000</td>\n",
              "      <td>30.258282</td>\n",
              "      <td>1.022818e+08</td>\n",
              "      <td>118.500000</td>\n",
              "      <td>6.800000</td>\n",
              "      <td>831.000000</td>\n",
              "    </tr>\n",
              "    <tr>\n",
              "      <th>max</th>\n",
              "      <td>3.800000e+08</td>\n",
              "      <td>417859.000000</td>\n",
              "      <td>875.581305</td>\n",
              "      <td>2.787965e+09</td>\n",
              "      <td>338.000000</td>\n",
              "      <td>8.500000</td>\n",
              "      <td>13752.000000</td>\n",
              "    </tr>\n",
              "  </tbody>\n",
              "</table>\n",
              "</div>"
            ],
            "text/plain": [
              "             budget             id  ...  vote_average    vote_count\n",
              "count  4.392000e+03    4392.000000  ...   4392.000000   4392.000000\n",
              "mean   3.164545e+07   49204.119991  ...      6.226935    754.441712\n",
              "std    4.162736e+07   80136.249777  ...      0.893215   1272.263761\n",
              "min    0.000000e+00       5.000000  ...      1.900000     10.000000\n",
              "25%    2.895962e+06    8403.500000  ...      5.700000     83.750000\n",
              "50%    1.700000e+07   13084.500000  ...      6.300000    288.500000\n",
              "75%    4.200000e+07   46831.250000  ...      6.800000    831.000000\n",
              "max    3.800000e+08  417859.000000  ...      8.500000  13752.000000\n",
              "\n",
              "[8 rows x 7 columns]"
            ]
          },
          "metadata": {},
          "execution_count": 10
        }
      ]
    },
    {
      "cell_type": "code",
      "metadata": {
        "colab": {
          "base_uri": "https://localhost:8080/",
          "height": 0
        },
        "id": "AzoZTdXwGjtE",
        "outputId": "3781acce-dd4b-4af0-883c-ad2fb34efc44"
      },
      "source": [
        "# Agora que removemos os registros que não continham votos, vamos gerar o histograma novamente sem a curva\n",
        "ax = sns.distplot(tmdb_com_mais_de_10_votos.vote_average,norm_hist= False, kde= False)\n",
        "ax.set(xlabel='Nota média', ylabel='Frequência')\n",
        "ax.set_title('Média de votos em filmes no TMDB 5000')"
      ],
      "execution_count": 11,
      "outputs": [
        {
          "output_type": "stream",
          "name": "stderr",
          "text": [
            "/usr/local/lib/python3.7/dist-packages/seaborn/distributions.py:2619: FutureWarning: `distplot` is a deprecated function and will be removed in a future version. Please adapt your code to use either `displot` (a figure-level function with similar flexibility) or `histplot` (an axes-level function for histograms).\n",
            "  warnings.warn(msg, FutureWarning)\n"
          ]
        },
        {
          "output_type": "execute_result",
          "data": {
            "text/plain": [
              "Text(0.5, 1.0, 'Média de votos em filmes no TMDB 5000')"
            ]
          },
          "metadata": {},
          "execution_count": 11
        },
        {
          "output_type": "display_data",
          "data": {
            "image/png": "[encoded data removed]",
            "text/plain": [
              "<Figure size 432x288 with 1 Axes>"
            ]
          },
          "metadata": {
            "needs_background": "light"
          }
        }
      ]
    },
    {
      "cell_type": "code",
      "metadata": {
        "colab": {
          "base_uri": "https://localhost:8080/",
          "height": 0
        },
        "id": "SbKn_fXJHm-d",
        "outputId": "071bd9fc-b3ea-4d82-c7ba-b91e8fbf4986"
      },
      "source": [
        "# Agora que removemos os registros que não continham votos, vamos gerar o histograma novamente com a curva\n",
        "ax = sns.distplot(tmdb_com_mais_de_10_votos.vote_average,norm_hist= True, kde= True)\n",
        "ax.set(xlabel='Nota média', ylabel='Frequência')\n",
        "ax.set_title('Média de votos em filmes no TMDB 5000')"
      ],
      "execution_count": 12,
      "outputs": [
        {
          "output_type": "stream",
          "name": "stderr",
          "text": [
            "/usr/local/lib/python3.7/dist-packages/seaborn/distributions.py:2619: FutureWarning: `distplot` is a deprecated function and will be removed in a future version. Please adapt your code to use either `displot` (a figure-level function with similar flexibility) or `histplot` (an axes-level function for histograms).\n",
            "  warnings.warn(msg, FutureWarning)\n"
          ]
        },
        {
          "output_type": "execute_result",
          "data": {
            "text/plain": [
              "Text(0.5, 1.0, 'Média de votos em filmes no TMDB 5000')"
            ]
          },
          "metadata": {},
          "execution_count": 12
        },
        {
          "output_type": "display_data",
          "data": {
            "image/png": "[encoded data removed]",
            "text/plain": [
              "<Figure size 432x288 with 1 Axes>"
            ]
          },
          "metadata": {
            "needs_background": "light"
          }
        }
      ]
    },
    {
      "cell_type": "code",
      "metadata": {
        "colab": {
          "base_uri": "https://localhost:8080/",
          "height": 0
        },
        "id": "Agy_ULUuIIS2",
        "outputId": "92e0516f-4b34-42a2-a57e-dfced22be5be"
      },
      "source": [
        "# Refinando o boxplot inserindo título no eixo x e título\n",
        "ax = sns.boxplot(tmdb_com_mais_de_10_votos.vote_average)\n",
        "ax.set(xlabel='Nota média do ffilme')\n",
        "ax.set_title('Distribuição de nota média dos filmes do TMDB 5000')"
      ],
      "execution_count": 13,
      "outputs": [
        {
          "output_type": "stream",
          "name": "stderr",
          "text": [
            "/usr/local/lib/python3.7/dist-packages/seaborn/_decorators.py:43: FutureWarning: Pass the following variable as a keyword arg: x. From version 0.12, the only valid positional argument will be `data`, and passing other arguments without an explicit keyword will result in an error or misinterpretation.\n",
            "  FutureWarning\n"
          ]
        },
        {
          "output_type": "execute_result",
          "data": {
            "text/plain": [
              "Text(0.5, 1.0, 'Distribuição de nota média dos filmes do TMDB 5000')"
            ]
          },
          "metadata": {},
          "execution_count": 13
        },
        {
          "output_type": "display_data",
          "data": {
            "image/png": "[encoded data removed]",
            "text/plain": [
              "<Figure size 432x288 with 1 Axes>"
            ]
          },
          "metadata": {
            "needs_background": "light"
          }
        }
      ]
    },
    {
      "cell_type": "markdown",
      "metadata": {
        "id": "eDVTD-e42X9j"
      },
      "source": [
        "## Visualizando e limpando o movielens"
      ]
    },
    {
      "cell_type": "code",
      "metadata": {
        "colab": {
          "base_uri": "https://localhost:8080/",
          "height": 0
        },
        "id": "UmprpdLA2bSB",
        "outputId": "89283ec5-aeec-4b81-fbde-c3c277a769b8"
      },
      "source": [
        "# Lendo os dados e visualizando os 5 primeiros registros\n",
        "notas = pd.read_csv(\"ratings.csv\")\n",
        "notas.head()"
      ],
      "execution_count": 14,
      "outputs": [
        {
          "output_type": "execute_result",
          "data": {
            "text/html": [
              "<div>\n",
              "<style scoped>\n",
              "    .dataframe tbody tr th:only-of-type {\n",
              "        vertical-align: middle;\n",
              "    }\n",
              "\n",
              "    .dataframe tbody tr th {\n",
              "        vertical-align: top;\n",
              "    }\n",
              "\n",
              "    .dataframe thead th {\n",
              "        text-align: right;\n",
              "    }\n",
              "</style>\n",
              "<table border=\"1\" class=\"dataframe\">\n",
              "  <thead>\n",
              "    <tr style=\"text-align: right;\">\n",
              "      <th></th>\n",
              "      <th>userId</th>\n",
              "      <th>movieId</th>\n",
              "      <th>rating</th>\n",
              "      <th>timestamp</th>\n",
              "    </tr>\n",
              "  </thead>\n",
              "  <tbody>\n",
              "    <tr>\n",
              "      <th>0</th>\n",
              "      <td>1</td>\n",
              "      <td>1</td>\n",
              "      <td>4.0</td>\n",
              "      <td>964982703</td>\n",
              "    </tr>\n",
              "    <tr>\n",
              "      <th>1</th>\n",
              "      <td>1</td>\n",
              "      <td>3</td>\n",
              "      <td>4.0</td>\n",
              "      <td>964981247</td>\n",
              "    </tr>\n",
              "    <tr>\n",
              "      <th>2</th>\n",
              "      <td>1</td>\n",
              "      <td>6</td>\n",
              "      <td>4.0</td>\n",
              "      <td>964982224</td>\n",
              "    </tr>\n",
              "    <tr>\n",
              "      <th>3</th>\n",
              "      <td>1</td>\n",
              "      <td>47</td>\n",
              "      <td>5.0</td>\n",
              "      <td>964983815</td>\n",
              "    </tr>\n",
              "    <tr>\n",
              "      <th>4</th>\n",
              "      <td>1</td>\n",
              "      <td>50</td>\n",
              "      <td>5.0</td>\n",
              "      <td>964982931</td>\n",
              "    </tr>\n",
              "  </tbody>\n",
              "</table>\n",
              "</div>"
            ],
            "text/plain": [
              "   userId  movieId  rating  timestamp\n",
              "0       1        1     4.0  964982703\n",
              "1       1        3     4.0  964981247\n",
              "2       1        6     4.0  964982224\n",
              "3       1       47     5.0  964983815\n",
              "4       1       50     5.0  964982931"
            ]
          },
          "metadata": {},
          "execution_count": 14
        }
      ]
    },
    {
      "cell_type": "code",
      "metadata": {
        "colab": {
          "base_uri": "https://localhost:8080/"
        },
        "id": "HkfBTbg65KIc",
        "outputId": "a015dc74-b494-4564-aa6f-c7a1193abde0"
      },
      "source": [
        "# Calculando média das notas agrupando por filme\n",
        "nota_media_por_filme = notas.groupby(\"movieId\").mean()[\"rating\"]\n",
        "nota_media_por_filme.head()"
      ],
      "execution_count": 15,
      "outputs": [
        {
          "output_type": "execute_result",
          "data": {
            "text/plain": [
              "movieId\n",
              "1    3.920930\n",
              "2    3.431818\n",
              "3    3.259615\n",
              "4    2.357143\n",
              "5    3.071429\n",
              "Name: rating, dtype: float64"
            ]
          },
          "metadata": {},
          "execution_count": 15
        }
      ]
    },
    {
      "cell_type": "code",
      "metadata": {
        "colab": {
          "base_uri": "https://localhost:8080/",
          "height": 0
        },
        "id": "pzVTdGa86V2C",
        "outputId": "d85bdfd2-afbf-4334-ed87-12c95a742ee0"
      },
      "source": [
        "# Visualizando as médias acrescentando .values à variável nota_media_por_filme de modo a pegar somente os valores, e não os ids de cada filme\n",
        "ax = sns.distplot(nota_media_por_filme.values)\n",
        "ax.set(xlabel='Nota média', ylabel='Densidade')\n",
        "ax.set_title('Média de votos em filmes no MovieLens')"
      ],
      "execution_count": 16,
      "outputs": [
        {
          "output_type": "stream",
          "name": "stderr",
          "text": [
            "/usr/local/lib/python3.7/dist-packages/seaborn/distributions.py:2619: FutureWarning: `distplot` is a deprecated function and will be removed in a future version. Please adapt your code to use either `displot` (a figure-level function with similar flexibility) or `histplot` (an axes-level function for histograms).\n",
            "  warnings.warn(msg, FutureWarning)\n"
          ]
        },
        {
          "output_type": "execute_result",
          "data": {
            "text/plain": [
              "Text(0.5, 1.0, 'Média de votos em filmes no MovieLens')"
            ]
          },
          "metadata": {},
          "execution_count": 16
        },
        {
          "output_type": "display_data",
          "data": {
            "image/png": "[encoded data removed]",
            "text/plain": [
              "<Figure size 432x288 with 1 Axes>"
            ]
          },
          "metadata": {
            "needs_background": "light"
          }
        }
      ]
    },
    {
      "cell_type": "code",
      "metadata": {
        "colab": {
          "base_uri": "https://localhost:8080/",
          "height": 0
        },
        "id": "Qlr9WuWk8hnC",
        "outputId": "4192404c-fa21-49ee-f047-b32954e4bd69"
      },
      "source": [
        "# Selecionando os filmes que possuem 10 ou mais votos\n",
        "quantidade_de_votos_por_filme = notas.groupby(\"movieId\").count()\n",
        "quantidade_de_votos_por_filme.query(\"rating >= 10\")"
      ],
      "execution_count": 17,
      "outputs": [
        {
          "output_type": "execute_result",
          "data": {
            "text/html": [
              "<div>\n",
              "<style scoped>\n",
              "    .dataframe tbody tr th:only-of-type {\n",
              "        vertical-align: middle;\n",
              "    }\n",
              "\n",
              "    .dataframe tbody tr th {\n",
              "        vertical-align: top;\n",
              "    }\n",
              "\n",
              "    .dataframe thead th {\n",
              "        text-align: right;\n",
              "    }\n",
              "</style>\n",
              "<table border=\"1\" class=\"dataframe\">\n",
              "  <thead>\n",
              "    <tr style=\"text-align: right;\">\n",
              "      <th></th>\n",
              "      <th>userId</th>\n",
              "      <th>rating</th>\n",
              "      <th>timestamp</th>\n",
              "    </tr>\n",
              "    <tr>\n",
              "      <th>movieId</th>\n",
              "      <th></th>\n",
              "      <th></th>\n",
              "      <th></th>\n",
              "    </tr>\n",
              "  </thead>\n",
              "  <tbody>\n",
              "    <tr>\n",
              "      <th>1</th>\n",
              "      <td>215</td>\n",
              "      <td>215</td>\n",
              "      <td>215</td>\n",
              "    </tr>\n",
              "    <tr>\n",
              "      <th>2</th>\n",
              "      <td>110</td>\n",
              "      <td>110</td>\n",
              "      <td>110</td>\n",
              "    </tr>\n",
              "    <tr>\n",
              "      <th>3</th>\n",
              "      <td>52</td>\n",
              "      <td>52</td>\n",
              "      <td>52</td>\n",
              "    </tr>\n",
              "    <tr>\n",
              "      <th>5</th>\n",
              "      <td>49</td>\n",
              "      <td>49</td>\n",
              "      <td>49</td>\n",
              "    </tr>\n",
              "    <tr>\n",
              "      <th>6</th>\n",
              "      <td>102</td>\n",
              "      <td>102</td>\n",
              "      <td>102</td>\n",
              "    </tr>\n",
              "    <tr>\n",
              "      <th>...</th>\n",
              "      <td>...</td>\n",
              "      <td>...</td>\n",
              "      <td>...</td>\n",
              "    </tr>\n",
              "    <tr>\n",
              "      <th>174055</th>\n",
              "      <td>13</td>\n",
              "      <td>13</td>\n",
              "      <td>13</td>\n",
              "    </tr>\n",
              "    <tr>\n",
              "      <th>176371</th>\n",
              "      <td>18</td>\n",
              "      <td>18</td>\n",
              "      <td>18</td>\n",
              "    </tr>\n",
              "    <tr>\n",
              "      <th>177765</th>\n",
              "      <td>13</td>\n",
              "      <td>13</td>\n",
              "      <td>13</td>\n",
              "    </tr>\n",
              "    <tr>\n",
              "      <th>179819</th>\n",
              "      <td>12</td>\n",
              "      <td>12</td>\n",
              "      <td>12</td>\n",
              "    </tr>\n",
              "    <tr>\n",
              "      <th>187593</th>\n",
              "      <td>12</td>\n",
              "      <td>12</td>\n",
              "      <td>12</td>\n",
              "    </tr>\n",
              "  </tbody>\n",
              "</table>\n",
              "<p>2269 rows × 3 columns</p>\n",
              "</div>"
            ],
            "text/plain": [
              "         userId  rating  timestamp\n",
              "movieId                           \n",
              "1           215     215        215\n",
              "2           110     110        110\n",
              "3            52      52         52\n",
              "5            49      49         49\n",
              "6           102     102        102\n",
              "...         ...     ...        ...\n",
              "174055       13      13         13\n",
              "176371       18      18         18\n",
              "177765       13      13         13\n",
              "179819       12      12         12\n",
              "187593       12      12         12\n",
              "\n",
              "[2269 rows x 3 columns]"
            ]
          },
          "metadata": {},
          "execution_count": 17
        }
      ]
    },
    {
      "cell_type": "code",
      "metadata": {
        "colab": {
          "base_uri": "https://localhost:8080/"
        },
        "id": "DFob65RS9cVD",
        "outputId": "1efe2c79-b434-4e60-9522-ed3482c788df"
      },
      "source": [
        "# Para saber quais são os filmes que compõem esse conjunto, utilizaremos o index (que se refere a movieId), já que esse campo é um índice e não uma coluna determinada. Criaremos, com essa query(), uma variável filmes_com_pelo_menos_10_votos\n",
        "quantidade_de_votos_por_filme = notas.groupby(\"movieId\").count()\n",
        "filmes_com_pelo_menos_10_votos = quantidade_de_votos_por_filme.query(\"rating >= 10\").index\n",
        "filmes_com_pelo_menos_10_votos"
      ],
      "execution_count": 18,
      "outputs": [
        {
          "output_type": "execute_result",
          "data": {
            "text/plain": [
              "Int64Index([     1,      2,      3,      5,      6,      7,      9,     10,\n",
              "                11,     12,\n",
              "            ...\n",
              "            166461, 166528, 166643, 168250, 168252, 174055, 176371, 177765,\n",
              "            179819, 187593],\n",
              "           dtype='int64', name='movieId', length=2269)"
            ]
          },
          "metadata": {},
          "execution_count": 18
        }
      ]
    },
    {
      "cell_type": "code",
      "metadata": {
        "colab": {
          "base_uri": "https://localhost:8080/"
        },
        "id": "39Xxq5aO_hNZ",
        "outputId": "f5429e26-befb-4ecf-a345-a46c233791c6"
      },
      "source": [
        "# Gerando uma array de valores\n",
        "filmes_com_pelo_menos_10_votos.values"
      ],
      "execution_count": 19,
      "outputs": [
        {
          "output_type": "execute_result",
          "data": {
            "text/plain": [
              "array([     1,      2,      3, ..., 177765, 179819, 187593])"
            ]
          },
          "metadata": {},
          "execution_count": 19
        }
      ]
    },
    {
      "cell_type": "code",
      "metadata": {
        "colab": {
          "base_uri": "https://localhost:8080/"
        },
        "id": "ckNo5h7UB8hk",
        "outputId": "249b04e3-54cd-45fc-f42e-19e997872cdb"
      },
      "source": [
        "# A variável nota_media_por_filme, que criamos anteriormente, é uma série que contém as médias e os ids dos filmes no conjunto. Agora, queremos somente os valores cujo índice está contido em filmes_com_pelo_menos_10_votos\n",
        "# Usaremos o indexador .loc[]. Como parâmetro, ele pode receber um índice ou até mesmo um array, que é exatamente o que temos em filmes_com_pelo_menos_10_votos! Atribuiremos a series retornada pelo .loc[] a uma nova variável\n",
        "nota_media_dos_filmes_com_pelo_menos_10_votos = nota_media_por_filme.loc[filmes_com_pelo_menos_10_votos.values]\n",
        "nota_media_dos_filmes_com_pelo_menos_10_votos.head()"
      ],
      "execution_count": 20,
      "outputs": [
        {
          "output_type": "execute_result",
          "data": {
            "text/plain": [
              "movieId\n",
              "1    3.920930\n",
              "2    3.431818\n",
              "3    3.259615\n",
              "5    3.071429\n",
              "6    3.946078\n",
              "Name: rating, dtype: float64"
            ]
          },
          "metadata": {},
          "execution_count": 20
        }
      ]
    },
    {
      "cell_type": "code",
      "metadata": {
        "colab": {
          "base_uri": "https://localhost:8080/",
          "height": 0
        },
        "id": "rlBjtG3vCrcv",
        "outputId": "827205e2-46ec-479e-8f2a-6c92b4df592c"
      },
      "source": [
        "# Dessa forma podemos gerar novamente o histograma\n",
        "ax = sns.distplot(nota_media_dos_filmes_com_pelo_menos_10_votos)\n",
        "ax.set(xlabel='Nota média', ylabel='Densidade')\n",
        "ax.set_title('Média de votos em filmes no MovieLens')"
      ],
      "execution_count": 21,
      "outputs": [
        {
          "output_type": "stream",
          "name": "stderr",
          "text": [
            "/usr/local/lib/python3.7/dist-packages/seaborn/distributions.py:2619: FutureWarning: `distplot` is a deprecated function and will be removed in a future version. Please adapt your code to use either `displot` (a figure-level function with similar flexibility) or `histplot` (an axes-level function for histograms).\n",
            "  warnings.warn(msg, FutureWarning)\n"
          ]
        },
        {
          "output_type": "execute_result",
          "data": {
            "text/plain": [
              "Text(0.5, 1.0, 'Média de votos em filmes no MovieLens')"
            ]
          },
          "metadata": {},
          "execution_count": 21
        },
        {
          "output_type": "display_data",
          "data": {
            "image/png": "[encoded data removed]",
            "text/plain": [
              "<Figure size 432x288 with 1 Axes>"
            ]
          },
          "metadata": {
            "needs_background": "light"
          }
        }
      ]
    },
    {
      "cell_type": "code",
      "metadata": {
        "colab": {
          "base_uri": "https://localhost:8080/",
          "height": 0
        },
        "id": "m5Ebp9SUD4IP",
        "outputId": "33ee0e1a-13b7-4a74-e2a0-d753c7b5300c"
      },
      "source": [
        "# Gerando o boxplot\n",
        "ax = sns.boxplot(x=nota_media_dos_filmes_com_pelo_menos_10_votos.values)\n",
        "ax.set(xlabel='Nota média do filme')\n",
        "ax.set_title('Distribuição de nota média dos filmes do MovieLens')"
      ],
      "execution_count": 22,
      "outputs": [
        {
          "output_type": "execute_result",
          "data": {
            "text/plain": [
              "Text(0.5, 1.0, 'Distribuição de nota média dos filmes do MovieLens')"
            ]
          },
          "metadata": {},
          "execution_count": 22
        },
        {
          "output_type": "display_data",
          "data": {
            "image/png": "[encoded data removed]",
            "text/plain": [
              "<Figure size 432x288 with 1 Axes>"
            ]
          },
          "metadata": {
            "needs_background": "light"
          }
        }
      ]
    },
    {
      "cell_type": "markdown",
      "metadata": {
        "id": "kCAs4-AZ1sys"
      },
      "source": [
        "# Visualizando a CDF"
      ]
    },
    {
      "cell_type": "code",
      "metadata": {
        "colab": {
          "base_uri": "https://localhost:8080/",
          "height": 0
        },
        "id": "OocI5vIY1vd7",
        "outputId": "ad340986-0776-41ba-c116-6e8c17051a5d"
      },
      "source": [
        "# Agora visualizaremos o quão bom ou ruim é a classificação de um filme, acumulando os dados. Na documentação do distplot() do Seaborn, não existe uma maneira direta de indicarmos essa gradação cumulativa. Porém, o distplot() chama duas funções do matplotlib (hist() e kde()), e pode receber argumentos extras por meio de hist_kws e kde_kws\n",
        "ax = sns.distplot(nota_media_dos_filmes_com_pelo_menos_10_votos,\n",
        "                  hist_kws = {'cumulative' : True},\n",
        "                  kde_kws = {'cumulative' :True})\n",
        "ax.set(xlabel='Nota média', ylabel='Proporção acumulada de filmes')\n",
        "ax.set_title('Média de votos em filmes no MovieLens')"
      ],
      "execution_count": 23,
      "outputs": [
        {
          "output_type": "stream",
          "name": "stderr",
          "text": [
            "/usr/local/lib/python3.7/dist-packages/seaborn/distributions.py:2619: FutureWarning: `distplot` is a deprecated function and will be removed in a future version. Please adapt your code to use either `displot` (a figure-level function with similar flexibility) or `histplot` (an axes-level function for histograms).\n",
            "  warnings.warn(msg, FutureWarning)\n"
          ]
        },
        {
          "output_type": "execute_result",
          "data": {
            "text/plain": [
              "Text(0.5, 1.0, 'Média de votos em filmes no MovieLens')"
            ]
          },
          "metadata": {},
          "execution_count": 23
        },
        {
          "output_type": "display_data",
          "data": {
            "image/png": "[encoded data removed]",
            "text/plain": [
              "<Figure size 432x288 with 1 Axes>"
            ]
          },
          "metadata": {
            "needs_background": "light"
          }
        }
      ]
    },
    {
      "cell_type": "code",
      "metadata": {
        "colab": {
          "base_uri": "https://localhost:8080/",
          "height": 0
        },
        "id": "2qD72DhI3z1b",
        "outputId": "23e2dc6e-f825-48b2-f10d-c392da953c22"
      },
      "source": [
        "# Repetindo o processo para a base TMDB 5000\n",
        "ax = sns.distplot(tmdb_com_mais_de_10_votos.vote_average,\n",
        "                  hist_kws = {'cumulative' :True},\n",
        "                  kde_kws = {'cumulative' :True})\n",
        "ax.set(xlabel='Nota média', ylabel='Proporção acumulada de filmes')\n",
        "ax.set_title('Média de votos em filmes no TMDB 5000')"
      ],
      "execution_count": 24,
      "outputs": [
        {
          "output_type": "stream",
          "name": "stderr",
          "text": [
            "/usr/local/lib/python3.7/dist-packages/seaborn/distributions.py:2619: FutureWarning: `distplot` is a deprecated function and will be removed in a future version. Please adapt your code to use either `displot` (a figure-level function with similar flexibility) or `histplot` (an axes-level function for histograms).\n",
            "  warnings.warn(msg, FutureWarning)\n"
          ]
        },
        {
          "output_type": "execute_result",
          "data": {
            "text/plain": [
              "Text(0.5, 1.0, 'Média de votos em filmes no TMDB 5000')"
            ]
          },
          "metadata": {},
          "execution_count": 24
        },
        {
          "output_type": "display_data",
          "data": {
            "image/png": "[encoded data removed]",
            "text/plain": [
              "<Figure size 432x288 with 1 Axes>"
            ]
          },
          "metadata": {
            "needs_background": "light"
          }
        }
      ]
    },
    {
      "cell_type": "markdown",
      "metadata": {
        "id": "YqGqr3Qf52lk"
      },
      "source": [
        "# Analisando a distribuição dos dados capturados de outros campos do TMDB"
      ]
    },
    {
      "cell_type": "code",
      "metadata": {
        "colab": {
          "base_uri": "https://localhost:8080/",
          "height": 0
        },
        "id": "KvvPkr1V5-q7",
        "outputId": "1bc6da9e-6f5a-4f3b-a81e-24a214c233a7"
      },
      "source": [
        "# Extraindo números de votos por filme\n",
        "ax = sns.distplot(tmdb_com_mais_de_10_votos.vote_count)\n",
        "ax.set(xlabel='Número de votos', ylabel='Densidade')\n",
        "ax.set_title('Número de votos em filmes no TMDB 5000 com 10 ou mais votos')"
      ],
      "execution_count": 25,
      "outputs": [
        {
          "output_type": "stream",
          "name": "stderr",
          "text": [
            "/usr/local/lib/python3.7/dist-packages/seaborn/distributions.py:2619: FutureWarning: `distplot` is a deprecated function and will be removed in a future version. Please adapt your code to use either `displot` (a figure-level function with similar flexibility) or `histplot` (an axes-level function for histograms).\n",
            "  warnings.warn(msg, FutureWarning)\n"
          ]
        },
        {
          "output_type": "execute_result",
          "data": {
            "text/plain": [
              "Text(0.5, 1.0, 'Número de votos em filmes no TMDB 5000 com 10 ou mais votos')"
            ]
          },
          "metadata": {},
          "execution_count": 25
        },
        {
          "output_type": "display_data",
          "data": {
            "image/png": "[encoded data removed]",
            "text/plain": [
              "<Figure size 432x288 with 1 Axes>"
            ]
          },
          "metadata": {
            "needs_background": "light"
          }
        }
      ]
    },
    {
      "cell_type": "code",
      "metadata": {
        "colab": {
          "base_uri": "https://localhost:8080/",
          "height": 0
        },
        "id": "S6s9sWKz_DqK",
        "outputId": "049158c4-0e5b-4dc0-bdd3-0e784c32c5c9"
      },
      "source": [
        "# Mostrando os filmes que tiverema budget > 0, para isso utilizaremos o query, essa separação com tmdb.query(\"budget > 0\").budget, gerando uma series nova\n",
        "ax = sns.distplot(tmdb.query(\"budget > 0\").budget)\n",
        "ax.set(xlabel= 'Gastos', ylabel='Densidade')\n",
        "ax.set_title('Gastos em filmes no TMDB 5000')"
      ],
      "execution_count": 26,
      "outputs": [
        {
          "output_type": "stream",
          "name": "stderr",
          "text": [
            "/usr/local/lib/python3.7/dist-packages/seaborn/distributions.py:2619: FutureWarning: `distplot` is a deprecated function and will be removed in a future version. Please adapt your code to use either `displot` (a figure-level function with similar flexibility) or `histplot` (an axes-level function for histograms).\n",
            "  warnings.warn(msg, FutureWarning)\n"
          ]
        },
        {
          "output_type": "execute_result",
          "data": {
            "text/plain": [
              "Text(0.5, 1.0, 'Gastos em filmes no TMDB 5000')"
            ]
          },
          "metadata": {},
          "execution_count": 26
        },
        {
          "output_type": "display_data",
          "data": {
            "image/png": "[encoded data removed]",
            "text/plain": [
              "<Figure size 432x288 with 1 Axes>"
            ]
          },
          "metadata": {
            "needs_background": "light"
          }
        }
      ]
    },
    {
      "cell_type": "code",
      "metadata": {
        "colab": {
          "base_uri": "https://localhost:8080/",
          "height": 0
        },
        "id": "PfPHTgbFAgc1",
        "outputId": "e1a55a16-91e4-46a9-d64b-d4cc439a8fd0"
      },
      "source": [
        "# Verificando se existem registros com 0 no campo popularity\n",
        "tmdb.query(\"popularity == 0\")"
      ],
      "execution_count": 27,
      "outputs": [
        {
          "output_type": "execute_result",
          "data": {
            "text/html": [
              "<div>\n",
              "<style scoped>\n",
              "    .dataframe tbody tr th:only-of-type {\n",
              "        vertical-align: middle;\n",
              "    }\n",
              "\n",
              "    .dataframe tbody tr th {\n",
              "        vertical-align: top;\n",
              "    }\n",
              "\n",
              "    .dataframe thead th {\n",
              "        text-align: right;\n",
              "    }\n",
              "</style>\n",
              "<table border=\"1\" class=\"dataframe\">\n",
              "  <thead>\n",
              "    <tr style=\"text-align: right;\">\n",
              "      <th></th>\n",
              "      <th>budget</th>\n",
              "      <th>genres</th>\n",
              "      <th>homepage</th>\n",
              "      <th>id</th>\n",
              "      <th>keywords</th>\n",
              "      <th>original_language</th>\n",
              "      <th>original_title</th>\n",
              "      <th>overview</th>\n",
              "      <th>popularity</th>\n",
              "      <th>production_companies</th>\n",
              "      <th>production_countries</th>\n",
              "      <th>release_date</th>\n",
              "      <th>revenue</th>\n",
              "      <th>runtime</th>\n",
              "      <th>spoken_languages</th>\n",
              "      <th>status</th>\n",
              "      <th>tagline</th>\n",
              "      <th>title</th>\n",
              "      <th>vote_average</th>\n",
              "      <th>vote_count</th>\n",
              "    </tr>\n",
              "  </thead>\n",
              "  <tbody>\n",
              "    <tr>\n",
              "      <th>4553</th>\n",
              "      <td>0</td>\n",
              "      <td>[]</td>\n",
              "      <td>NaN</td>\n",
              "      <td>380097</td>\n",
              "      <td>[]</td>\n",
              "      <td>en</td>\n",
              "      <td>America Is Still the Place</td>\n",
              "      <td>1971 post civil rights San Francisco seemed li...</td>\n",
              "      <td>0.0</td>\n",
              "      <td>[]</td>\n",
              "      <td>[]</td>\n",
              "      <td>NaN</td>\n",
              "      <td>0</td>\n",
              "      <td>0.0</td>\n",
              "      <td>[]</td>\n",
              "      <td>Released</td>\n",
              "      <td>NaN</td>\n",
              "      <td>America Is Still the Place</td>\n",
              "      <td>0.0</td>\n",
              "      <td>0</td>\n",
              "    </tr>\n",
              "  </tbody>\n",
              "</table>\n",
              "</div>"
            ],
            "text/plain": [
              "      budget genres  ... vote_average  vote_count\n",
              "4553       0     []  ...          0.0           0\n",
              "\n",
              "[1 rows x 20 columns]"
            ]
          },
          "metadata": {},
          "execution_count": 27
        }
      ]
    },
    {
      "cell_type": "code",
      "metadata": {
        "colab": {
          "base_uri": "https://localhost:8080/",
          "height": 0
        },
        "id": "zFD-GS6xA0Mq",
        "outputId": "23cab5be-efdf-4c9c-a59f-2da89591154d"
      },
      "source": [
        "# Como tivemos apenas um registro contendo valor 0, aceitaremos e geraremos o gráfico\n",
        "ax = sns.distplot(tmdb.popularity)\n",
        "ax.set(xlabel='Popularidade', ylabel='Densidade')\n",
        "ax.set_title('Popularidade dos filmes no TMDB 5000')"
      ],
      "execution_count": 28,
      "outputs": [
        {
          "output_type": "stream",
          "name": "stderr",
          "text": [
            "/usr/local/lib/python3.7/dist-packages/seaborn/distributions.py:2619: FutureWarning: `distplot` is a deprecated function and will be removed in a future version. Please adapt your code to use either `displot` (a figure-level function with similar flexibility) or `histplot` (an axes-level function for histograms).\n",
            "  warnings.warn(msg, FutureWarning)\n"
          ]
        },
        {
          "output_type": "execute_result",
          "data": {
            "text/plain": [
              "Text(0.5, 1.0, 'Popularidade dos filmes no TMDB 5000')"
            ]
          },
          "metadata": {},
          "execution_count": 28
        },
        {
          "output_type": "display_data",
          "data": {
            "image/png": "[encoded data removed]",
            "text/plain": [
              "<Figure size 432x288 with 1 Axes>"
            ]
          },
          "metadata": {
            "needs_background": "light"
          }
        }
      ]
    },
    {
      "cell_type": "code",
      "metadata": {
        "colab": {
          "base_uri": "https://localhost:8080/"
        },
        "id": "C3cwQaGiBq6y",
        "outputId": "465ddace-4af9-42c3-b4a3-a9ce8628cefb"
      },
      "source": [
        "# Verificando se possuimos valores nulos no campo runtime e trazendo a quantidade\n",
        "tmdb.runtime.isnull().sum()"
      ],
      "execution_count": 29,
      "outputs": [
        {
          "output_type": "execute_result",
          "data": {
            "text/plain": [
              "2"
            ]
          },
          "metadata": {},
          "execution_count": 29
        }
      ]
    },
    {
      "cell_type": "code",
      "metadata": {
        "colab": {
          "base_uri": "https://localhost:8080/",
          "height": 0
        },
        "id": "RHqGXIaQB8e0",
        "outputId": "86b8d57e-1da1-4819-d72f-e0991c50aafa"
      },
      "source": [
        "# Plotando o gráfico excluindo os valores nulos com o comando dropna\n",
        "ax = sns.distplot(tmdb.runtime.dropna())\n",
        "ax.set(xlabel='Duração', ylabel='Densidade')\n",
        "ax.set_title('Duração dos filmes no TMDB 5000')"
      ],
      "execution_count": 30,
      "outputs": [
        {
          "output_type": "stream",
          "name": "stderr",
          "text": [
            "/usr/local/lib/python3.7/dist-packages/seaborn/distributions.py:2619: FutureWarning: `distplot` is a deprecated function and will be removed in a future version. Please adapt your code to use either `displot` (a figure-level function with similar flexibility) or `histplot` (an axes-level function for histograms).\n",
            "  warnings.warn(msg, FutureWarning)\n"
          ]
        },
        {
          "output_type": "execute_result",
          "data": {
            "text/plain": [
              "Text(0.5, 1.0, 'Duração dos filmes no TMDB 5000')"
            ]
          },
          "metadata": {},
          "execution_count": 30
        },
        {
          "output_type": "display_data",
          "data": {
            "image/png": "[encoded data removed]",
            "text/plain": [
              "<Figure size 432x288 with 1 Axes>"
            ]
          },
          "metadata": {
            "needs_background": "light"
          }
        }
      ]
    },
    {
      "cell_type": "code",
      "metadata": {
        "colab": {
          "base_uri": "https://localhost:8080/",
          "height": 0
        },
        "id": "TiCVVAq9CqMS",
        "outputId": "0a5e923a-a5cb-4ee8-878f-acc293c29779"
      },
      "source": [
        "# Perceba que, nessa distribuição, temos um pico de valores 0, o que provavelmente significa que esse campo não foi informado em vários filmes do nosso conjunto. Na nossa nova plotagem, removeremos esses registros com uma query(\"runtime>0\")\n",
        "ax = sns.distplot(tmdb.query(\"runtime > 0\").runtime.dropna(),\n",
        "                  hist_kws={'cumulative': True},\n",
        "                  kde_kws ={'cumulative': True})\n",
        "ax.set(xlabel='Tempo de duração', ylabel='Densidade')\n",
        "ax.set_title('Duração dos filmes no TMDB 5000')"
      ],
      "execution_count": 31,
      "outputs": [
        {
          "output_type": "stream",
          "name": "stderr",
          "text": [
            "/usr/local/lib/python3.7/dist-packages/seaborn/distributions.py:2619: FutureWarning: `distplot` is a deprecated function and will be removed in a future version. Please adapt your code to use either `displot` (a figure-level function with similar flexibility) or `histplot` (an axes-level function for histograms).\n",
            "  warnings.warn(msg, FutureWarning)\n"
          ]
        },
        {
          "output_type": "execute_result",
          "data": {
            "text/plain": [
              "Text(0.5, 1.0, 'Duração dos filmes no TMDB 5000')"
            ]
          },
          "metadata": {},
          "execution_count": 31
        },
        {
          "output_type": "display_data",
          "data": {
            "image/png": "[encoded data removed]",
            "text/plain": [
              "<Figure size 432x288 with 1 Axes>"
            ]
          },
          "metadata": {
            "needs_background": "light"
          }
        }
      ]
    },
    {
      "cell_type": "code",
      "metadata": {
        "colab": {
          "base_uri": "https://localhost:8080/"
        },
        "id": "90egAxbeDooK",
        "outputId": "56b343b0-02d8-49e5-a87d-47b6e0e8844d"
      },
      "source": [
        "# Dessa forma, é possível inferirmos visualmente, por exemplo, que cerca de 40% dos filmes no conjunto de dados do TMBD têm menos de 100 minutos de duração. Por meio do Pandas, também existe uma maneira de verificarmos informações como esta de forma numérica. Vamos supor que queremos saber, por exemplo, qual é o valor que separa 80% desse conjunto. Para isso, usaremos a função quantile(), que aceita um parâmetro q com o número decimal referente à porcentagem desejada - nesse caso, 0.8\n",
        "tmdb.query(\"runtime > 0\").runtime.dropna().quantile(q=0.8)\n",
        "# Assim, sabemos que 80% dos nossos filmes têm 121 minutos ou menos, e que 20% têm uma duração maior"
      ],
      "execution_count": 32,
      "outputs": [
        {
          "output_type": "execute_result",
          "data": {
            "text/plain": [
              "121.0"
            ]
          },
          "metadata": {},
          "execution_count": 32
        }
      ]
    },
    {
      "cell_type": "markdown",
      "metadata": {
        "id": "AdCfnRatU7na"
      },
      "source": [
        "# O efeito do tamanho de uma amostra"
      ]
    },
    {
      "cell_type": "code",
      "metadata": {
        "id": "7GY_dZBMVEkx",
        "colab": {
          "base_uri": "https://localhost:8080/"
        },
        "outputId": "e83bba3a-c509-4eb4-f161-73099f46d438"
      },
      "source": [
        "# Calculando a média das médias dos filmes do MovieLens\n",
        "nota_media_dos_filmes_com_pelo_menos_10_votos.mean()"
      ],
      "execution_count": 33,
      "outputs": [
        {
          "output_type": "execute_result",
          "data": {
            "text/plain": [
              "3.4320503405352603"
            ]
          },
          "metadata": {},
          "execution_count": 33
        }
      ]
    },
    {
      "cell_type": "code",
      "metadata": {
        "id": "w7SGBZt-V5RY",
        "colab": {
          "base_uri": "https://localhost:8080/"
        },
        "outputId": "0e484a9a-22ec-4889-e6ab-b68a67ca1854"
      },
      "source": [
        "# Exibindo a média dos 5 primeiros registros\n",
        "nota_media_dos_filmes_com_pelo_menos_10_votos[0:5].mean()"
      ],
      "execution_count": 34,
      "outputs": [
        {
          "output_type": "execute_result",
          "data": {
            "text/plain": [
              "3.5259741603585653"
            ]
          },
          "metadata": {},
          "execution_count": 34
        }
      ]
    },
    {
      "cell_type": "code",
      "metadata": {
        "id": "tgKttittZ0fz",
        "colab": {
          "base_uri": "https://localhost:8080/"
        },
        "outputId": "0200941b-b2bd-447f-878c-4aed958b5ade"
      },
      "source": [
        "# Descobrindo a quantidade de registros temos no dataset\n",
        "len(nota_media_dos_filmes_com_pelo_menos_10_votos)"
      ],
      "execution_count": 35,
      "outputs": [
        {
          "output_type": "execute_result",
          "data": {
            "text/plain": [
              "2269"
            ]
          },
          "metadata": {},
          "execution_count": 35
        }
      ]
    },
    {
      "cell_type": "code",
      "metadata": {
        "id": "eDaMJQ85Z_zJ"
      },
      "source": [
        " # Para que possamos guardar os resultados abaixo, utilizaremos o append para inserir esses dados na variávél medias\n",
        " medias = list()\n",
        "# Para fazer a leitura de todos os registros no dataset, podemos utilizar um for\n",
        "for i in range(1, len(nota_media_dos_filmes_com_pelo_menos_10_votos)):\n",
        "# Agora calcularemos as médias resultantes da entrada de cada registro na medida que o comando acima vá percorrendo no dataset, para que possamos guardar a informação na variável utilizaremo o append\n",
        "  medias.append(nota_media_dos_filmes_com_pelo_menos_10_votos[0:i].mean())\n",
        "  medias\n"
      ],
      "execution_count": 36,
      "outputs": []
    },
    {
      "cell_type": "code",
      "metadata": {
        "id": "2ZprPfC9cBUB",
        "colab": {
          "base_uri": "https://localhost:8080/",
          "height": 0
        },
        "outputId": "593fd241-4021-4df0-8a94-611c91437617"
      },
      "source": [
        "# Agora vamos plotar os dados em um gráfico\n",
        "# Para evitar que tenhamos registros viciados, realizaremos testes com esses dados, mas aleatoriamente, ou seja mudando sua sequência e escolha\n",
        "import numpy as np\n",
        "import matplotlib.pyplot as plt\n",
        "\n",
        "np.random.seed(75243)\n",
        "temp = nota_media_dos_filmes_com_pelo_menos_10_votos.sample(frac=1)\n",
        "\n",
        "medias = list()\n",
        "for i in range(1, len(temp)):\n",
        "  medias.append(temp[0:i].mean())\n",
        "plt.plot(medias)"
      ],
      "execution_count": 37,
      "outputs": [
        {
          "output_type": "execute_result",
          "data": {
            "text/plain": [
              "[<matplotlib.lines.Line2D at 0x7f1faddf5910>]"
            ]
          },
          "metadata": {},
          "execution_count": 37
        },
        {
          "output_type": "display_data",
          "data": {
            "image/png": "[encoded data removed]",
            "text/plain": [
              "<Figure size 432x288 with 1 Axes>"
            ]
          },
          "metadata": {
            "needs_background": "light"
          }
        }
      ]
    },
    {
      "cell_type": "code",
      "metadata": {
        "id": "mjS1tTCxdDXh",
        "colab": {
          "base_uri": "https://localhost:8080/",
          "height": 0
        },
        "outputId": "486df2c9-bac7-4c4e-d0ee-25fae3543728"
      },
      "source": [
        "# Uma forma mais fácil de executar seria:\n",
        "np.random.seed(75243)\n",
        "temp = nota_media_dos_filmes_com_pelo_menos_10_votos.sample(frac=1)\n",
        "\n",
        "medias = list()\n",
        "medias = [temp[0:i].mean() for i in range(1, len(temp))]\n",
        "\n",
        "plt.plot(medias)"
      ],
      "execution_count": 38,
      "outputs": [
        {
          "output_type": "execute_result",
          "data": {
            "text/plain": [
              "[<matplotlib.lines.Line2D at 0x7f1fadd5f390>]"
            ]
          },
          "metadata": {},
          "execution_count": 38
        },
        {
          "output_type": "display_data",
          "data": {
            "image/png": "[encoded data removed]",
            "text/plain": [
              "<Figure size 432x288 with 1 Axes>"
            ]
          },
          "metadata": {
            "needs_background": "light"
          }
        }
      ]
    },
    {
      "cell_type": "markdown",
      "metadata": {
        "id": "AMFcrrTBaZjT"
      },
      "source": [
        "# Intervalo de confiança da média com t e ztest"
      ]
    },
    {
      "cell_type": "code",
      "metadata": {
        "id": "2GwKBZU1ahHC",
        "colab": {
          "base_uri": "https://localhost:8080/"
        },
        "outputId": "5c21cd83-b95f-430c-f5cd-d30500741953"
      },
      "source": [
        "# Instalando o pacote\n",
        "!pip install statsmodels"
      ],
      "execution_count": 39,
      "outputs": [
        {
          "output_type": "stream",
          "name": "stdout",
          "text": [
            "Requirement already satisfied: statsmodels in /usr/local/lib/python3.7/dist-packages (0.10.2)\n",
            "Requirement already satisfied: patsy>=0.4.0 in /usr/local/lib/python3.7/dist-packages (from statsmodels) (0.5.1)\n",
            "Requirement already satisfied: numpy>=1.11 in /usr/local/lib/python3.7/dist-packages (from statsmodels) (1.19.5)\n",
            "Requirement already satisfied: pandas>=0.19 in /usr/local/lib/python3.7/dist-packages (from statsmodels) (1.1.5)\n",
            "Requirement already satisfied: scipy>=0.18 in /usr/local/lib/python3.7/dist-packages (from statsmodels) (1.4.1)\n",
            "Requirement already satisfied: pytz>=2017.2 in /usr/local/lib/python3.7/dist-packages (from pandas>=0.19->statsmodels) (2018.9)\n",
            "Requirement already satisfied: python-dateutil>=2.7.3 in /usr/local/lib/python3.7/dist-packages (from pandas>=0.19->statsmodels) (2.8.2)\n",
            "Requirement already satisfied: six in /usr/local/lib/python3.7/dist-packages (from patsy>=0.4.0->statsmodels) (1.15.0)\n"
          ]
        }
      ]
    },
    {
      "cell_type": "code",
      "metadata": {
        "id": "SwiiOicNa17u",
        "colab": {
          "base_uri": "https://localhost:8080/"
        },
        "outputId": "34974b01-c0b3-411e-f7f3-963a4ac02694"
      },
      "source": [
        "\n",
        "# Utilizando a biblioteca\n",
        "from statsmodels.stats.weightstats import zconfint\n",
        "# Gerando o intervalo de confiança\n",
        "zconfint(nota_media_dos_filmes_com_pelo_menos_10_votos)"
      ],
      "execution_count": 40,
      "outputs": [
        {
          "output_type": "stream",
          "name": "stderr",
          "text": [
            "/usr/local/lib/python3.7/dist-packages/statsmodels/tools/_testing.py:19: FutureWarning: pandas.util.testing is deprecated. Use the functions in the public API at pandas.testing instead.\n",
            "  import pandas.util.testing as tm\n"
          ]
        },
        {
          "output_type": "execute_result",
          "data": {
            "text/plain": [
              "(3.4112459477469557, 3.452854733323563)"
            ]
          },
          "metadata": {},
          "execution_count": 40
        }
      ]
    },
    {
      "cell_type": "code",
      "metadata": {
        "id": "W0e5ZxUtcgJA"
      },
      "source": [
        "# Utilizando a biblioteca\n",
        "from statsmodels.stats.weightstats import DescrStatsW"
      ],
      "execution_count": 41,
      "outputs": []
    },
    {
      "cell_type": "code",
      "metadata": {
        "id": "Q3R2RlBicyKB",
        "colab": {
          "base_uri": "https://localhost:8080/"
        },
        "outputId": "1015df96-9397-438d-c4da-28a63ec5ac25"
      },
      "source": [
        "# Descrevendo e visualizando o objeto gerado\n",
        "descr_todos_com_10_votos = DescrStatsW(nota_media_dos_filmes_com_pelo_menos_10_votos)\n",
        "descr_todos_com_10_votos"
      ],
      "execution_count": 42,
      "outputs": [
        {
          "output_type": "execute_result",
          "data": {
            "text/plain": [
              "<statsmodels.stats.weightstats.DescrStatsW at 0x7f1fad6b10d0>"
            ]
          },
          "metadata": {},
          "execution_count": 42
        }
      ]
    },
    {
      "cell_type": "code",
      "metadata": {
        "id": "YmI7H8XVdqmb",
        "colab": {
          "base_uri": "https://localhost:8080/"
        },
        "outputId": "3ead826a-a9d0-4105-a8a2-aa82f5125c3c"
      },
      "source": [
        "# Utilizando o objeto gerado anteriormente para gerar a média\n",
        "descr_todos_com_10_votos.tconfint_mean()"
      ],
      "execution_count": 43,
      "outputs": [
        {
          "output_type": "execute_result",
          "data": {
            "text/plain": [
              "(3.411234839229381, 3.4528658418411395)"
            ]
          },
          "metadata": {},
          "execution_count": 43
        }
      ]
    },
    {
      "cell_type": "markdown",
      "metadata": {
        "id": "TEhsaC1bOR0O"
      },
      "source": [
        "# Analisando o Filme 1..."
      ]
    },
    {
      "cell_type": "code",
      "metadata": {
        "id": "onxUYEGoOVyt",
        "colab": {
          "base_uri": "https://localhost:8080/",
          "height": 0
        },
        "outputId": "62f0ba54-f51e-49ac-ccd3-40cfca578cb3"
      },
      "source": [
        "# Importando o dataset\n",
        "filmes = pd.read_csv(\"movies.csv\")\n",
        "filmes.query(\"movieId==1\")"
      ],
      "execution_count": 44,
      "outputs": [
        {
          "output_type": "execute_result",
          "data": {
            "text/html": [
              "<div>\n",
              "<style scoped>\n",
              "    .dataframe tbody tr th:only-of-type {\n",
              "        vertical-align: middle;\n",
              "    }\n",
              "\n",
              "    .dataframe tbody tr th {\n",
              "        vertical-align: top;\n",
              "    }\n",
              "\n",
              "    .dataframe thead th {\n",
              "        text-align: right;\n",
              "    }\n",
              "</style>\n",
              "<table border=\"1\" class=\"dataframe\">\n",
              "  <thead>\n",
              "    <tr style=\"text-align: right;\">\n",
              "      <th></th>\n",
              "      <th>movieId</th>\n",
              "      <th>title</th>\n",
              "      <th>genres</th>\n",
              "    </tr>\n",
              "  </thead>\n",
              "  <tbody>\n",
              "    <tr>\n",
              "      <th>0</th>\n",
              "      <td>1</td>\n",
              "      <td>Toy Story (1995)</td>\n",
              "      <td>Adventure|Animation|Children|Comedy|Fantasy</td>\n",
              "    </tr>\n",
              "  </tbody>\n",
              "</table>\n",
              "</div>"
            ],
            "text/plain": [
              "   movieId             title                                       genres\n",
              "0        1  Toy Story (1995)  Adventure|Animation|Children|Comedy|Fantasy"
            ]
          },
          "metadata": {},
          "execution_count": 44
        }
      ]
    },
    {
      "cell_type": "code",
      "metadata": {
        "id": "5kSP8u6pO8y3",
        "colab": {
          "base_uri": "https://localhost:8080/",
          "height": 0
        },
        "outputId": "251d8fe1-6f1a-4f44-925a-dbae7c60aafb"
      },
      "source": [
        "# Inserindo a query em uma variável\n",
        "notas1 = notas.query(\"movieId == 1\")\n",
        "notas1.head()"
      ],
      "execution_count": 45,
      "outputs": [
        {
          "output_type": "execute_result",
          "data": {
            "text/html": [
              "<div>\n",
              "<style scoped>\n",
              "    .dataframe tbody tr th:only-of-type {\n",
              "        vertical-align: middle;\n",
              "    }\n",
              "\n",
              "    .dataframe tbody tr th {\n",
              "        vertical-align: top;\n",
              "    }\n",
              "\n",
              "    .dataframe thead th {\n",
              "        text-align: right;\n",
              "    }\n",
              "</style>\n",
              "<table border=\"1\" class=\"dataframe\">\n",
              "  <thead>\n",
              "    <tr style=\"text-align: right;\">\n",
              "      <th></th>\n",
              "      <th>userId</th>\n",
              "      <th>movieId</th>\n",
              "      <th>rating</th>\n",
              "      <th>timestamp</th>\n",
              "    </tr>\n",
              "  </thead>\n",
              "  <tbody>\n",
              "    <tr>\n",
              "      <th>0</th>\n",
              "      <td>1</td>\n",
              "      <td>1</td>\n",
              "      <td>4.0</td>\n",
              "      <td>964982703</td>\n",
              "    </tr>\n",
              "    <tr>\n",
              "      <th>516</th>\n",
              "      <td>5</td>\n",
              "      <td>1</td>\n",
              "      <td>4.0</td>\n",
              "      <td>847434962</td>\n",
              "    </tr>\n",
              "    <tr>\n",
              "      <th>874</th>\n",
              "      <td>7</td>\n",
              "      <td>1</td>\n",
              "      <td>4.5</td>\n",
              "      <td>1106635946</td>\n",
              "    </tr>\n",
              "    <tr>\n",
              "      <th>1434</th>\n",
              "      <td>15</td>\n",
              "      <td>1</td>\n",
              "      <td>2.5</td>\n",
              "      <td>1510577970</td>\n",
              "    </tr>\n",
              "    <tr>\n",
              "      <th>1667</th>\n",
              "      <td>17</td>\n",
              "      <td>1</td>\n",
              "      <td>4.5</td>\n",
              "      <td>1305696483</td>\n",
              "    </tr>\n",
              "  </tbody>\n",
              "</table>\n",
              "</div>"
            ],
            "text/plain": [
              "      userId  movieId  rating   timestamp\n",
              "0          1        1     4.0   964982703\n",
              "516        5        1     4.0   847434962\n",
              "874        7        1     4.5  1106635946\n",
              "1434      15        1     2.5  1510577970\n",
              "1667      17        1     4.5  1305696483"
            ]
          },
          "metadata": {},
          "execution_count": 45
        }
      ]
    },
    {
      "cell_type": "code",
      "metadata": {
        "id": "-6HH5_iOPZQJ",
        "colab": {
          "base_uri": "https://localhost:8080/",
          "height": 0
        },
        "outputId": "1b73fb68-998d-4b18-95f9-ec593becf881"
      },
      "source": [
        "# Plotando os dados\n",
        "ax = sns.distplot(notas1.rating)\n",
        "ax.set(xlabel='Notas do Toy Story', ylabel='Densidade')\n",
        "ax.set_title('Distribuição das notas para o Toy Story')"
      ],
      "execution_count": 46,
      "outputs": [
        {
          "output_type": "stream",
          "name": "stderr",
          "text": [
            "/usr/local/lib/python3.7/dist-packages/seaborn/distributions.py:2619: FutureWarning: `distplot` is a deprecated function and will be removed in a future version. Please adapt your code to use either `displot` (a figure-level function with similar flexibility) or `histplot` (an axes-level function for histograms).\n",
            "  warnings.warn(msg, FutureWarning)\n"
          ]
        },
        {
          "output_type": "execute_result",
          "data": {
            "text/plain": [
              "Text(0.5, 1.0, 'Distribuição das notas para o Toy Story')"
            ]
          },
          "metadata": {},
          "execution_count": 46
        },
        {
          "output_type": "display_data",
          "data": {
            "image/png": "[encoded data removed]",
            "text/plain": [
              "<Figure size 432x288 with 1 Axes>"
            ]
          },
          "metadata": {
            "needs_background": "light"
          }
        }
      ]
    },
    {
      "cell_type": "code",
      "metadata": {
        "id": "ohDHaxJPRKW1",
        "colab": {
          "base_uri": "https://localhost:8080/",
          "height": 0
        },
        "outputId": "3d05885f-8167-4f5d-bcee-9791ef2763da"
      },
      "source": [
        "ax = sns.boxplot(notas1.rating)\n",
        "ax.set(xlabel='Notas')\n",
        "ax.set_title('Distribuição das notas para o Toy Story')"
      ],
      "execution_count": 47,
      "outputs": [
        {
          "output_type": "stream",
          "name": "stderr",
          "text": [
            "/usr/local/lib/python3.7/dist-packages/seaborn/_decorators.py:43: FutureWarning: Pass the following variable as a keyword arg: x. From version 0.12, the only valid positional argument will be `data`, and passing other arguments without an explicit keyword will result in an error or misinterpretation.\n",
            "  FutureWarning\n"
          ]
        },
        {
          "output_type": "execute_result",
          "data": {
            "text/plain": [
              "Text(0.5, 1.0, 'Distribuição das notas para o Toy Story')"
            ]
          },
          "metadata": {},
          "execution_count": 47
        },
        {
          "output_type": "display_data",
          "data": {
            "image/png": "[encoded data removed]",
            "text/plain": [
              "<Figure size 432x288 with 1 Axes>"
            ]
          },
          "metadata": {
            "needs_background": "light"
          }
        }
      ]
    },
    {
      "cell_type": "code",
      "metadata": {
        "id": "m4fQ43i7UQN_",
        "colab": {
          "base_uri": "https://localhost:8080/"
        },
        "outputId": "e1293eb4-00a1-4837-ab13-6445510e25f6"
      },
      "source": [
        "# Calculando a média das notas do Filme Toy Story\n",
        "notas1.rating.mean()"
      ],
      "execution_count": 48,
      "outputs": [
        {
          "output_type": "execute_result",
          "data": {
            "text/plain": [
              "3.9209302325581397"
            ]
          },
          "metadata": {},
          "execution_count": 48
        }
      ]
    },
    {
      "cell_type": "code",
      "metadata": {
        "id": "6SiFEQotUnKs",
        "colab": {
          "base_uri": "https://localhost:8080/"
        },
        "outputId": "ddd5057d-5cab-4186-8f7c-a36f1664d61d"
      },
      "source": [
        "# Contando a quantidade de dados\n",
        "notas1.rating.count()"
      ],
      "execution_count": 49,
      "outputs": [
        {
          "output_type": "execute_result",
          "data": {
            "text/plain": [
              "215"
            ]
          },
          "metadata": {},
          "execution_count": 49
        }
      ]
    },
    {
      "cell_type": "code",
      "metadata": {
        "id": "WCaERPqvUzao",
        "colab": {
          "base_uri": "https://localhost:8080/"
        },
        "outputId": "e0051b04-147f-4b2c-f4f8-62c329d50394"
      },
      "source": [
        "# Calculando o teste Z\n",
        "zconfint(notas1.rating)"
      ],
      "execution_count": 50,
      "outputs": [
        {
          "output_type": "execute_result",
          "data": {
            "text/plain": [
              "(3.8093359183563402, 4.032524546759939)"
            ]
          },
          "metadata": {},
          "execution_count": 50
        }
      ]
    },
    {
      "cell_type": "code",
      "metadata": {
        "id": "Zatd8z38XDEE"
      },
      "source": [
        "# Importando a Biblioteca do ztest\n",
        "from statsmodels.stats.weightstats import ztest"
      ],
      "execution_count": 51,
      "outputs": []
    },
    {
      "cell_type": "code",
      "metadata": {
        "id": "ZaZqnjIKXOwj",
        "colab": {
          "base_uri": "https://localhost:8080/"
        },
        "outputId": "a63a7ba7-3072-4a39-fb2c-7570f2562c41"
      },
      "source": [
        "# Realizando o teste checando se a média do nota1 é equivalente a 3.4...., considerando o 5% para mais ou para menos)\n",
        "ztest(notas1.rating, value= 3.4320503405352603)"
      ],
      "execution_count": 52,
      "outputs": [
        {
          "output_type": "execute_result",
          "data": {
            "text/plain": [
              "(8.586342305916716, 8.978190401886942e-18)"
            ]
          },
          "metadata": {},
          "execution_count": 52
        }
      ]
    },
    {
      "cell_type": "markdown",
      "metadata": {
        "id": "oLbY_djxX7li"
      },
      "source": [
        "O ztest() nos devolve duas variáveis: o valor estatístico e o pvalue. Repare que este último é um valor bastante baixo, e bem menor que o nosso 0.05 (o alpha). Portanto, podemos descartar a hipótese de que, no mundo real, a média do Toy Story é igual a 3.4320503405352603 (também chamada de hipótese nula)\n",
        "\n",
        "Quanto mais dados tivermos, as chances dessa equivalência existir se tornam menores. Portanto, esse tipo de teste de igualdade é bastante delicado quando temos muitos dados. Quando estamos trabalhando em bigdata, acabamos caindo nesse tipo de problema, e torna-se mais interessante analisarmos não só a possibilidade dessa igualdade, como também o intervalo de confiança e as visualizações gráficas das nossas distribuições.\n",
        "\n",
        "Nesse momento, nossa conclusão é que o filme Toy Story realmente tem uma média diferente da média de todos os filmes."
      ]
    },
    {
      "cell_type": "markdown",
      "metadata": {
        "id": "lIgqhjadGZop"
      },
      "source": [
        "# Problemas de amostras pequenas"
      ]
    },
    {
      "cell_type": "code",
      "metadata": {
        "id": "vXNKqDuQGbjm",
        "colab": {
          "base_uri": "https://localhost:8080/",
          "height": 0
        },
        "outputId": "d58a44c8-ae95-4f90-90dd-172593684b45"
      },
      "source": [
        "# Plotando as notas do Filme Toy Story e checando se a amostra é suficiente\n",
        "np.random.seed(75241)\n",
        "temp = notas1.sample(frac=1).rating\n",
        "\n",
        "medias = [temp[0:i].mean() for i in range(1, len(temp))]\n",
        "\n",
        "plt.plot(medias)"
      ],
      "execution_count": 53,
      "outputs": [
        {
          "output_type": "execute_result",
          "data": {
            "text/plain": [
              "[<matplotlib.lines.Line2D at 0x7f1fad45a210>]"
            ]
          },
          "metadata": {},
          "execution_count": 53
        },
        {
          "output_type": "display_data",
          "data": {
            "image/png": "[encoded data removed]",
            "text/plain": [
              "<Figure size 432x288 with 1 Axes>"
            ]
          },
          "metadata": {
            "needs_background": "light"
          }
        }
      ]
    },
    {
      "cell_type": "code",
      "metadata": {
        "id": "_XqiWxIdIlqD",
        "colab": {
          "base_uri": "https://localhost:8080/"
        },
        "outputId": "3f0f5fd3-f9d3-455d-8446-a3a728e13aef"
      },
      "source": [
        "# Criaremos, então, uma função calcula_teste(i). Nela, colocaremos o código referente à media do trecho analisado (temp[0:i].mean()). Além disso, aplicaremos o ztest() para essas notas, estipulando como referência o valor 3.4320503405352603. Essa função nos dará dois retornos: stat e p\n",
        "np.random.seed(75241)\n",
        "temp = notas1.sample(frac=1).rating\n",
        "\n",
        "def calcula_teste(i):\n",
        "  media = temp[0:i].mean()\n",
        "  stat, p = ztest(temp[0:i], value=3.4320503405352603)\n",
        "  return (i, media, p)\n",
        "medias = [calcula_teste(i) for i in range(2, len(temp))]\n",
        "medias"
      ],
      "execution_count": 54,
      "outputs": [
        {
          "output_type": "execute_result",
          "data": {
            "text/plain": [
              "[(2, 4.5, 0.032687621135204896),\n",
              " (3, 4.0, 0.3252543510880489),\n",
              " (4, 3.875, 0.29952196979944745),\n",
              " (5, 3.9, 0.15826781784711086),\n",
              " (6, 3.9166666666666665, 0.07406936464331344),\n",
              " (7, 3.9285714285714284, 0.03058372185045264),\n",
              " (8, 4.0625, 0.008546846816661634),\n",
              " (9, 3.9444444444444446, 0.034351369792154834),\n",
              " (10, 3.6, 0.6797757440816464),\n",
              " (11, 3.590909090909091, 0.6661040559180447),\n",
              " (12, 3.5, 0.8452594429449549),\n",
              " (13, 3.5, 0.8319722700425317),\n",
              " (14, 3.5357142857142856, 0.7285036535608292),\n",
              " (15, 3.6, 0.5561564945645507),\n",
              " (16, 3.5625, 0.6284166359766319),\n",
              " (17, 3.6470588235294117, 0.42056196093078513),\n",
              " (18, 3.7222222222222223, 0.2692718087435868),\n",
              " (19, 3.6842105263157894, 0.3157395629293568),\n",
              " (20, 3.65, 0.36558117183067695),\n",
              " (21, 3.5714285714285716, 0.5650170364597873),\n",
              " (22, 3.590909090909091, 0.4930885087384419),\n",
              " (23, 3.608695652173913, 0.4265824656611449),\n",
              " (24, 3.625, 0.36578337526912086),\n",
              " (25, 3.64, 0.3108287352909964),\n",
              " (26, 3.6538461538461537, 0.26171758950670954),\n",
              " (27, 3.6481481481481484, 0.2559999054486449),\n",
              " (28, 3.6964285714285716, 0.16314137427171593),\n",
              " (29, 3.7413793103448274, 0.10054986793464257),\n",
              " (30, 3.7333333333333334, 0.09812718831667805),\n",
              " (31, 3.7419354838709675, 0.07894877889458934),\n",
              " (32, 3.671875, 0.19389049416761317),\n",
              " (33, 3.6666666666666665, 0.18994435269346233),\n",
              " (34, 3.7058823529411766, 0.12400478766945784),\n",
              " (35, 3.742857142857143, 0.07870821336871098),\n",
              " (36, 3.7222222222222223, 0.09353576061527746),\n",
              " (37, 3.7027027027027026, 0.11013590254134484),\n",
              " (38, 3.736842105263158, 0.070293980214127),\n",
              " (39, 3.7435897435897436, 0.057719600728433226),\n",
              " (40, 3.725, 0.06895669959313765),\n",
              " (41, 3.7560975609756095, 0.043027696867534854),\n",
              " (42, 3.7857142857142856, 0.026192682251694282),\n",
              " (43, 3.813953488372093, 0.015559932099710492),\n",
              " (44, 3.8181818181818183, 0.01233272538941352),\n",
              " (45, 3.8222222222222224, 0.00971325069982623),\n",
              " (46, 3.8043478260869565, 0.012260404094830826),\n",
              " (47, 3.7872340425531914, 0.015299059283941084),\n",
              " (48, 3.8125, 0.008966188879749698),\n",
              " (49, 3.806122448979592, 0.008766884002523942),\n",
              " (50, 3.81, 0.006897537294395224),\n",
              " (51, 3.8137254901960786, 0.005394516156167565),\n",
              " (52, 3.8173076923076925, 0.004193844231736312),\n",
              " (53, 3.80188679245283, 0.005385212289644282),\n",
              " (54, 3.8055555555555554, 0.004195763368449785),\n",
              " (55, 3.790909090909091, 0.005368352947838337),\n",
              " (56, 3.7767857142857144, 0.006794205663451532),\n",
              " (57, 3.763157894736842, 0.008512220201001898),\n",
              " (58, 3.7844827586206895, 0.004975558567317606),\n",
              " (59, 3.788135593220339, 0.003904050433428437),\n",
              " (60, 3.808333333333333, 0.0022169155153936113),\n",
              " (61, 3.8114754098360657, 0.0017134856636438817),\n",
              " (62, 3.7983870967741935, 0.0022185468321933607),\n",
              " (63, 3.7936507936507935, 0.0021667091142656882),\n",
              " (64, 3.7890625, 0.0021155742986059037),\n",
              " (65, 3.792307692307692, 0.001638169688311084),\n",
              " (66, 3.7803030303030303, 0.002112904717074153),\n",
              " (67, 3.783582089552239, 0.0016391796508841768),\n",
              " (68, 3.7720588235294117, 0.002107877006211813),\n",
              " (69, 3.7753623188405796, 0.001638208006937132),\n",
              " (70, 3.7785714285714285, 0.0012667046775475992),\n",
              " (71, 3.76056338028169, 0.0022426047709492537),\n",
              " (72, 3.763888888888889, 0.0017525084760790894),\n",
              " (73, 3.7739726027397262, 0.0011365250751412),\n",
              " (74, 3.7905405405405403, 0.0006361085905667348),\n",
              " (75, 3.8066666666666666, 0.00035042445221225517),\n",
              " (76, 3.8157894736842106, 0.00021841519783205381),\n",
              " (77, 3.811688311688312, 0.0002133389727594162),\n",
              " (78, 3.8141025641025643, 0.0001607423772756106),\n",
              " (79, 3.8164556962025316, 0.00012053616176043722),\n",
              " (80, 3.83125, 6.355135417245393e-05),\n",
              " (81, 3.845679012345679, 3.300722928041108e-05),\n",
              " (82, 3.841463414634146, 3.2304003745802037e-05),\n",
              " (83, 3.8433734939759034, 2.374556884407959e-05),\n",
              " (84, 3.857142857142857, 1.2077073301628071e-05),\n",
              " (85, 3.847058823529412, 1.7088673225760976e-05),\n",
              " (86, 3.8313953488372094, 3.608185615666001e-05),\n",
              " (87, 3.8333333333333335, 2.681257612846113e-05),\n",
              " (88, 3.8238636363636362, 3.681562512354262e-05),\n",
              " (89, 3.808988764044944, 7.313870608516293e-05),\n",
              " (90, 3.811111111111111, 5.525606847923858e-05),\n",
              " (91, 3.8131868131868134, 4.1572170968967595e-05),\n",
              " (92, 3.8206521739130435, 2.540508532221419e-05),\n",
              " (93, 3.8225806451612905, 1.891161316381205e-05),\n",
              " (94, 3.824468085106383, 1.4019284811900051e-05),\n",
              " (95, 3.8157894736842106, 1.9300245184706242e-05),\n",
              " (96, 3.8177083333333335, 1.4337154349835086e-05),\n",
              " (97, 3.829896907216495, 7.470440358184904e-06),\n",
              " (98, 3.8418367346938775, 3.843679820388642e-06),\n",
              " (99, 3.823232323232323, 1.3101881021708747e-05),\n",
              " (100, 3.815, 1.773810320525232e-05),\n",
              " (101, 3.797029702970297, 5.156319239792069e-05),\n",
              " (102, 3.799019607843137, 3.956916550250529e-05),\n",
              " (103, 3.7815533980582523, 0.00010532490098882295),\n",
              " (104, 3.7836538461538463, 8.207340957567451e-05),\n",
              " (105, 3.7857142857142856, 6.373666797007717e-05),\n",
              " (106, 3.7877358490566038, 4.9327620681370155e-05),\n",
              " (107, 3.794392523364486, 3.158510492524062e-05),\n",
              " (108, 3.7824074074074074, 5.741195652105531e-05),\n",
              " (109, 3.7844036697247705, 4.452063805181686e-05),\n",
              " (110, 3.7954545454545454, 2.5034997999585643e-05),\n",
              " (111, 3.8018018018018016, 1.593383648900579e-05),\n",
              " (112, 3.8035714285714284, 1.2181676067708934e-05),\n",
              " (113, 3.8053097345132745, 9.282385148662153e-06),\n",
              " (114, 3.807017543859649, 7.049800097807919e-06),\n",
              " (115, 3.8086956521739133, 5.336512954125956e-06),\n",
              " (116, 3.8017241379310347, 7.132420343988585e-06),\n",
              " (117, 3.8119658119658117, 3.8777239631651985e-06),\n",
              " (118, 3.809322033898305, 3.789024541840527e-06),\n",
              " (119, 3.80672268907563, 3.701652394675697e-06),\n",
              " (120, 3.8041666666666667, 3.6156244484077226e-06),\n",
              " (121, 3.809917355371901, 2.234409015059164e-06),\n",
              " (122, 3.819672131147541, 1.1935921381583365e-06),\n",
              " (123, 3.821138211382114, 8.907771906449635e-07),\n",
              " (124, 3.814516129032258, 1.2165528009735344e-06),\n",
              " (125, 3.808, 1.6492029231809994e-06),\n",
              " (126, 3.8095238095238093, 1.2383902023580329e-06),\n",
              " (127, 3.7992125984251968, 2.4447090501870245e-06),\n",
              " (128, 3.80859375, 1.3259626346058774e-06),\n",
              " (129, 3.802325581395349, 1.7799716841358229e-06),\n",
              " (130, 3.7884615384615383, 5.106740278151876e-06),\n",
              " (131, 3.786259541984733, 4.986913728968981e-06),\n",
              " (132, 3.7954545454545454, 2.7799402746913627e-06),\n",
              " (133, 3.793233082706767, 2.715247214619515e-06),\n",
              " (134, 3.794776119402985, 2.075872794199074e-06),\n",
              " (135, 3.785185185185185, 3.869818273690176e-06),\n",
              " (136, 3.786764705882353, 2.9771501112494567e-06),\n",
              " (137, 3.7846715328467155, 2.906855295169462e-06),\n",
              " (138, 3.786231884057971, 2.229978257172786e-06),\n",
              " (139, 3.7805755395683454, 2.923020543496903e-06),\n",
              " (140, 3.7857142857142856, 1.861736987479408e-06),\n",
              " (141, 3.780141843971631, 2.441850783063681e-06),\n",
              " (142, 3.7816901408450705, 1.8743496554091788e-06),\n",
              " (143, 3.7832167832167833, 1.4348129269825041e-06),\n",
              " (144, 3.7847222222222223, 1.0953489095524478e-06),\n",
              " (145, 3.786206896551724, 8.33914593413763e-07),\n",
              " (146, 3.7945205479452055, 4.5654100105346796e-07),\n",
              " (147, 3.802721088435374, 2.4781068087348057e-07),\n",
              " (148, 3.804054054054054, 1.8647631467675183e-07),\n",
              " (149, 3.8053691275167787, 1.3994497318116365e-07),\n",
              " (150, 3.8066666666666666, 1.0474187906210276e-07),\n",
              " (151, 3.814569536423841, 5.5638738167742754e-08),\n",
              " (152, 3.8223684210526314, 2.9310557354650833e-08),\n",
              " (153, 3.823529411764706, 2.169106984430368e-08),\n",
              " (154, 3.8279220779220777, 1.296533237512879e-08),\n",
              " (155, 3.835483870967742, 6.69721358751862e-09),\n",
              " (156, 3.8365384615384617, 4.90242789582791e-09),\n",
              " (157, 3.837579617834395, 3.579198670373318e-09),\n",
              " (158, 3.8322784810126582, 5.065038279328382e-09),\n",
              " (159, 3.839622641509434, 2.593122661980238e-09),\n",
              " (160, 3.840625, 1.888254008877338e-09),\n",
              " (161, 3.829192546583851, 6.89862648428305e-09),\n",
              " (162, 3.830246913580247, 5.088654193995244e-09),\n",
              " (163, 3.831288343558282, 3.744165106538347e-09),\n",
              " (164, 3.826219512195122, 5.23409616911476e-09),\n",
              " (165, 3.8333333333333335, 2.715045381204715e-09),\n",
              " (166, 3.8343373493975905, 1.9924856311040464e-09),\n",
              " (167, 3.841317365269461, 1.021658248002295e-09),\n",
              " (168, 3.8452380952380953, 5.986014433616568e-10),\n",
              " (169, 3.8520710059171597, 3.026046512497991e-10),\n",
              " (170, 3.85, 2.9667891226340393e-10),\n",
              " (171, 3.8508771929824563, 2.1473424779915278e-10),\n",
              " (172, 3.8459302325581395, 3.087411923363227e-10),\n",
              " (173, 3.8497109826589595, 1.7917893544489147e-10),\n",
              " (174, 3.8505747126436782, 1.2939702905988413e-10),\n",
              " (175, 3.854285714285714, 7.437375301814674e-11),\n",
              " (176, 3.8607954545454546, 3.68536489501502e-11),\n",
              " (177, 3.867231638418079, 1.8128994549484078e-11),\n",
              " (178, 3.8707865168539324, 1.0226884113071301e-11),\n",
              " (179, 3.863128491620112, 2.476407211840968e-11),\n",
              " (180, 3.863888888888889, 1.7738569534234892e-11),\n",
              " (181, 3.8701657458563536, 8.709233016873075e-12),\n",
              " (182, 3.870879120879121, 6.201886620364462e-12),\n",
              " (183, 3.866120218579235, 9.186029818083115e-12),\n",
              " (184, 3.8668478260869565, 6.5513651601619266e-12),\n",
              " (185, 3.8702702702702703, 3.688482306426001e-12),\n",
              " (186, 3.8763440860215055, 1.787257905280176e-12),\n",
              " (187, 3.8823529411764706, 8.600037830948384e-13),\n",
              " (188, 3.882978723404255, 6.056150219694947e-13),\n",
              " (189, 3.8835978835978837, 4.2551292144889585e-13),\n",
              " (190, 3.886842105263158, 2.3370424038676717e-13),\n",
              " (191, 3.887434554973822, 1.6326985261947053e-13),\n",
              " (192, 3.8880208333333335, 1.1380629973295943e-13),\n",
              " (193, 3.88860103626943, 7.91493424125946e-14),\n",
              " (194, 3.8917525773195876, 4.278258438283099e-14),\n",
              " (195, 3.8923076923076922, 2.958555465053198e-14),\n",
              " (196, 3.8877551020408165, 4.623476152843946e-14),\n",
              " (197, 3.8908629441624365, 2.493280074064741e-14),\n",
              " (198, 3.893939393939394, 1.3370684043107038e-14),\n",
              " (199, 3.899497487437186, 6.160613753635314e-15),\n",
              " (200, 3.895, 9.749074156510373e-15),\n",
              " (201, 3.8955223880597014, 6.7127681104016146e-15),\n",
              " (202, 3.896039603960396, 4.6119520070165714e-15),\n",
              " (203, 3.896551724137931, 3.1616414709692205e-15),\n",
              " (204, 3.9019607843137254, 1.443848995257856e-15),\n",
              " (205, 3.897560975609756, 2.309845735394206e-15),\n",
              " (206, 3.9029126213592233, 1.0555998801123747e-15),\n",
              " (207, 3.9082125603864735, 4.793088683620973e-16),\n",
              " (208, 3.9086538461538463, 3.2609910418318076e-16),\n",
              " (209, 3.9138755980861246, 1.466694033719233e-16),\n",
              " (210, 3.914285714285714, 9.927030087378508e-17),\n",
              " (211, 3.914691943127962, 6.704625749290763e-17),\n",
              " (212, 3.9150943396226414, 4.518611521397103e-17),\n",
              " (213, 3.915492957746479, 3.038859398683116e-17),\n",
              " (214, 3.9205607476635516, 1.3418325209316871e-17)]"
            ]
          },
          "metadata": {},
          "execution_count": 54
        }
      ]
    },
    {
      "cell_type": "code",
      "metadata": {
        "id": "S-so5CGpKW7R",
        "colab": {
          "base_uri": "https://localhost:8080/",
          "height": 0
        },
        "outputId": "618eedd4-5fe5-45be-83f9-cceab2e3eca1"
      },
      "source": [
        "# Agora, vamos imprimir a média, que é a segunda coluna do nosso conjunto. Para isso, transformaremos o retorno de medias em um array do numpy, e passaremos essa variável para a função plt.plot(), pegando apenas a segunda coluna (1)\n",
        "valores = np.array([calcula_teste(i) for i in range(2, len(temp))])\n",
        "medias\n",
        "\n",
        "plt.plot(valores[:,0],valores[:,1])"
      ],
      "execution_count": 55,
      "outputs": [
        {
          "output_type": "execute_result",
          "data": {
            "text/plain": [
              "[<matplotlib.lines.Line2D at 0x7f1fad445d50>]"
            ]
          },
          "metadata": {},
          "execution_count": 55
        },
        {
          "output_type": "display_data",
          "data": {
            "image/png": "[encoded data removed]",
            "text/plain": [
              "<Figure size 432x288 with 1 Axes>"
            ]
          },
          "metadata": {
            "needs_background": "light"
          }
        }
      ]
    },
    {
      "cell_type": "code",
      "metadata": {
        "id": "R89xtbQ4L13g",
        "colab": {
          "base_uri": "https://localhost:8080/",
          "height": 0
        },
        "outputId": "b682534e-d722-4b2a-d4a1-732acb19cfbd"
      },
      "source": [
        "# Além das médias, podemos plotar também a variação do p value! Faremos isso criando outra função plt.plot(), dessa vez passando as colunas 0 e 2 do nosso conjunto\n",
        "plt.plot(valores[:,0],valores[:,1])\n",
        "plt.plot(valores[:,0],valores[:,2])"
      ],
      "execution_count": 56,
      "outputs": [
        {
          "output_type": "execute_result",
          "data": {
            "text/plain": [
              "[<matplotlib.lines.Line2D at 0x7f1fad3b0790>]"
            ]
          },
          "metadata": {},
          "execution_count": 56
        },
        {
          "output_type": "display_data",
          "data": {
            "image/png": "[encoded data removed]",
            "text/plain": [
              "<Figure size 432x288 with 1 Axes>"
            ]
          },
          "metadata": {
            "needs_background": "light"
          }
        }
      ]
    },
    {
      "cell_type": "code",
      "metadata": {
        "id": "dbszhB2GOBp3",
        "colab": {
          "base_uri": "https://localhost:8080/",
          "height": 0
        },
        "outputId": "cd4978e2-456d-42fa-ed38-b92776519ed4"
      },
      "source": [
        "# Utilizaremos a função plt.hlines() para delimitarmos uma linha referencial ao longo do eixo y. passaremos 0.05 como valor de y; 2 como valor de xmin, len(temp) como valor de xmax; e r como valor de colors (de modo que a linha traçada seja vermelha)\n",
        "plt.plot(valores[:,0], valores[:,1])\n",
        "plt.plot(valores[:,0], valores[:,2])\n",
        "plt.hlines(y = 0.05, xmin = 2, xmax = len(temp), colors='r')"
      ],
      "execution_count": 57,
      "outputs": [
        {
          "output_type": "execute_result",
          "data": {
            "text/plain": [
              "<matplotlib.collections.LineCollection at 0x7f1fad529d50>"
            ]
          },
          "metadata": {},
          "execution_count": 57
        },
        {
          "output_type": "display_data",
          "data": {
            "image/png": "[encoded data removed]",
            "text/plain": [
              "<Figure size 432x288 with 1 Axes>"
            ]
          },
          "metadata": {
            "needs_background": "light"
          }
        }
      ]
    },
    {
      "cell_type": "markdown",
      "metadata": {
        "id": "g3bcGHJdNbg-"
      },
      "source": [
        "# Comparando a média de duas amostras"
      ]
    },
    {
      "cell_type": "code",
      "metadata": {
        "id": "Cg9sOHCDNfZI",
        "colab": {
          "base_uri": "https://localhost:8080/"
        },
        "outputId": "9618019c-d690-4c16-b3f2-e7afe6260473"
      },
      "source": [
        "zconfint(notas1.rating, notas.rating)"
      ],
      "execution_count": 58,
      "outputs": [
        {
          "output_type": "execute_result",
          "data": {
            "text/plain": [
              "(0.2799245129192442, 0.5588219849631111)"
            ]
          },
          "metadata": {},
          "execution_count": 58
        }
      ]
    },
    {
      "cell_type": "code",
      "metadata": {
        "id": "mn0V6nk6Rv4Q",
        "colab": {
          "base_uri": "https://localhost:8080/"
        },
        "outputId": "eb2f363a-6456-4edf-c1e9-458405d416b0"
      },
      "source": [
        "print(ztest(notas1.rating, notas.rating))\n",
        "zconfint(notas1.rating, notas.rating)"
      ],
      "execution_count": 59,
      "outputs": [
        {
          "output_type": "stream",
          "name": "stdout",
          "text": [
            "(5.894327101501841, 3.762112778881965e-09)\n"
          ]
        },
        {
          "output_type": "execute_result",
          "data": {
            "text/plain": [
              "(0.2799245129192442, 0.5588219849631111)"
            ]
          },
          "metadata": {},
          "execution_count": 59
        }
      ]
    },
    {
      "cell_type": "code",
      "metadata": {
        "id": "f7SnxVSOSyiP",
        "colab": {
          "base_uri": "https://localhost:8080/"
        },
        "outputId": "7a92d540-2e03-44ee-ca0e-836a8a84d90f"
      },
      "source": [
        "print (ztest(notas1.rating, notas.rating))\n",
        "zconfint(notas.rating, notas1.rating)"
      ],
      "execution_count": 60,
      "outputs": [
        {
          "output_type": "stream",
          "name": "stdout",
          "text": [
            "(5.894327101501841, 3.762112778881965e-09)\n"
          ]
        },
        {
          "output_type": "execute_result",
          "data": {
            "text/plain": [
              "(-0.5588219849631111, -0.2799245129192442)"
            ]
          },
          "metadata": {},
          "execution_count": 60
        }
      ]
    },
    {
      "cell_type": "code",
      "metadata": {
        "id": "KhfcJ5AbVHrW",
        "colab": {
          "base_uri": "https://localhost:8080/"
        },
        "outputId": "923b6f24-c9dd-4fea-ddd3-f7e2676b90f9"
      },
      "source": [
        "from scipy.stats import ttest_ind\n",
        "\n",
        "ttest_ind(notas.rating, notas1.rating)"
      ],
      "execution_count": 61,
      "outputs": [
        {
          "output_type": "execute_result",
          "data": {
            "text/plain": [
              "Ttest_indResult(statistic=-5.894327101501841, pvalue=3.774003138720876e-09)"
            ]
          },
          "metadata": {},
          "execution_count": 61
        }
      ]
    },
    {
      "cell_type": "code",
      "metadata": {
        "id": "GTHBlj29XTz3",
        "colab": {
          "base_uri": "https://localhost:8080/"
        },
        "outputId": "f7244e17-1565-46f6-b09d-fbc428eaf00d"
      },
      "source": [
        "descr_todas_as_notas = DescrStatsW(notas.rating)\n",
        "descr_toystory = DescrStatsW(notas1.rating)\n",
        "descr_todas_as_notas.get_compare(descr_toystory)"
      ],
      "execution_count": 62,
      "outputs": [
        {
          "output_type": "execute_result",
          "data": {
            "text/plain": [
              "<statsmodels.stats.weightstats.CompareMeans at 0x7f1fad323c50>"
            ]
          },
          "metadata": {},
          "execution_count": 62
        }
      ]
    },
    {
      "cell_type": "code",
      "metadata": {
        "id": "5dFyP0OeZ7mm",
        "colab": {
          "base_uri": "https://localhost:8080/",
          "height": 0
        },
        "outputId": "22f7a95a-acdd-464a-d4d3-0785f9055ff5"
      },
      "source": [
        "descr_todas_as_notas = DescrStatsW(notas.rating)\n",
        "descr_toystory = DescrStatsW(notas1.rating)\n",
        "comparacao = descr_todas_as_notas.get_compare(descr_toystory)\n",
        "\n",
        "comparacao.summary()"
      ],
      "execution_count": 63,
      "outputs": [
        {
          "output_type": "execute_result",
          "data": {
            "text/html": [
              "<table class=\"simpletable\">\n",
              "<caption>Test for equality of means</caption>\n",
              "<tr>\n",
              "      <td></td>         <th>coef</th>     <th>std err</th>      <th>t</th>      <th>P>|t|</th>  <th>[0.025</th>    <th>0.975]</th>  \n",
              "</tr>\n",
              "<tr>\n",
              "  <th>subset #1</th> <td>   -0.4194</td> <td>    0.071</td> <td>   -5.894</td> <td> 0.000</td> <td>   -0.559</td> <td>   -0.280</td>\n",
              "</tr>\n",
              "</table>"
            ],
            "text/plain": [
              "<class 'statsmodels.iolib.table.SimpleTable'>"
            ]
          },
          "metadata": {},
          "execution_count": 63
        }
      ]
    },
    {
      "cell_type": "code",
      "metadata": {
        "id": "cozbl5JbauQm",
        "colab": {
          "base_uri": "https://localhost:8080/",
          "height": 0
        },
        "outputId": "e934d4fb-a44c-4755-c492-60bf691c7e81"
      },
      "source": [
        "import statsmodels as sm\n",
        "sm.__version__"
      ],
      "execution_count": 64,
      "outputs": [
        {
          "output_type": "execute_result",
          "data": {
            "application/vnd.google.colaboratory.intrinsic+json": {
              "type": "string"
            },
            "text/plain": [
              "'0.10.2'"
            ]
          },
          "metadata": {},
          "execution_count": 64
        }
      ]
    },
    {
      "cell_type": "code",
      "metadata": {
        "id": "uTLwM10qbHvc",
        "colab": {
          "base_uri": "https://localhost:8080/"
        },
        "outputId": "6239aa35-7a7d-45c7-f81f-6daaf3a175fa"
      },
      "source": [
        "!pip install statsmodels"
      ],
      "execution_count": 65,
      "outputs": [
        {
          "output_type": "stream",
          "name": "stdout",
          "text": [
            "Requirement already satisfied: statsmodels in /usr/local/lib/python3.7/dist-packages (0.10.2)\n",
            "Requirement already satisfied: patsy>=0.4.0 in /usr/local/lib/python3.7/dist-packages (from statsmodels) (0.5.1)\n",
            "Requirement already satisfied: numpy>=1.11 in /usr/local/lib/python3.7/dist-packages (from statsmodels) (1.19.5)\n",
            "Requirement already satisfied: scipy>=0.18 in /usr/local/lib/python3.7/dist-packages (from statsmodels) (1.4.1)\n",
            "Requirement already satisfied: pandas>=0.19 in /usr/local/lib/python3.7/dist-packages (from statsmodels) (1.1.5)\n",
            "Requirement already satisfied: pytz>=2017.2 in /usr/local/lib/python3.7/dist-packages (from pandas>=0.19->statsmodels) (2018.9)\n",
            "Requirement already satisfied: python-dateutil>=2.7.3 in /usr/local/lib/python3.7/dist-packages (from pandas>=0.19->statsmodels) (2.8.2)\n",
            "Requirement already satisfied: six in /usr/local/lib/python3.7/dist-packages (from patsy>=0.4.0->statsmodels) (1.15.0)\n"
          ]
        }
      ]
    },
    {
      "cell_type": "code",
      "metadata": {
        "id": "2_rWA8Ihb2Bw",
        "colab": {
          "base_uri": "https://localhost:8080/",
          "height": 0
        },
        "outputId": "2f38dab4-b28a-474a-f6ba-e7b908430a4c"
      },
      "source": [
        "descr_todas_as_notas = DescrStatsW(notas.rating)\n",
        "descr_toystory = DescrStatsW(notas1.rating)\n",
        "comparacao = descr_todas_as_notas.get_compare(descr_toystory)\n",
        "\n",
        "comparacao.summary(use_t=True)"
      ],
      "execution_count": 66,
      "outputs": [
        {
          "output_type": "execute_result",
          "data": {
            "text/html": [
              "<table class=\"simpletable\">\n",
              "<caption>Test for equality of means</caption>\n",
              "<tr>\n",
              "      <td></td>         <th>coef</th>     <th>std err</th>      <th>t</th>      <th>P>|t|</th>  <th>[0.025</th>    <th>0.975]</th>  \n",
              "</tr>\n",
              "<tr>\n",
              "  <th>subset #1</th> <td>   -0.4194</td> <td>    0.071</td> <td>   -5.894</td> <td> 0.000</td> <td>   -0.559</td> <td>   -0.280</td>\n",
              "</tr>\n",
              "</table>"
            ],
            "text/plain": [
              "<class 'statsmodels.iolib.table.SimpleTable'>"
            ]
          },
          "metadata": {},
          "execution_count": 66
        }
      ]
    },
    {
      "cell_type": "markdown",
      "metadata": {
        "id": "T0aGj8EFWsi7"
      },
      "source": [
        "# Visualizando graficamente"
      ]
    },
    {
      "cell_type": "code",
      "metadata": {
        "id": "Ht70SMJ7W0rR",
        "colab": {
          "base_uri": "https://localhost:8080/",
          "height": 0
        },
        "outputId": "61300e79-699d-40f0-cd75-886b31b4faf4"
      },
      "source": [
        "import matplotlib.pyplot as plt\n",
        "\n",
        "plt.boxplot([notas.rating, notas1.rating], labels=[\"Todas as notas\", \"Toy Story\"])\n",
        "plt.title(\"Distribuição das notas de acordo com filmes\")"
      ],
      "execution_count": 67,
      "outputs": [
        {
          "output_type": "stream",
          "name": "stderr",
          "text": [
            "/usr/local/lib/python3.7/dist-packages/numpy/core/_asarray.py:83: VisibleDeprecationWarning: Creating an ndarray from ragged nested sequences (which is a list-or-tuple of lists-or-tuples-or ndarrays with different lengths or shapes) is deprecated. If you meant to do this, you must specify 'dtype=object' when creating the ndarray\n",
            "  return array(a, dtype, copy=False, order=order)\n"
          ]
        },
        {
          "output_type": "execute_result",
          "data": {
            "text/plain": [
              "Text(0.5, 1.0, 'Distribuição das notas de acordo com filmes')"
            ]
          },
          "metadata": {},
          "execution_count": 67
        },
        {
          "output_type": "display_data",
          "data": {
            "image/png": "[encoded data removed]",
            "text/plain": [
              "<Figure size 432x288 with 1 Axes>"
            ]
          },
          "metadata": {
            "needs_background": "light"
          }
        }
      ]
    },
    {
      "cell_type": "markdown",
      "metadata": {
        "id": "ng66iIcdZkl4"
      },
      "source": [
        "# Cuidado ao interpretar o intervalo de confiança"
      ]
    },
    {
      "cell_type": "code",
      "metadata": {
        "id": "YENdx1TPZmto",
        "colab": {
          "base_uri": "https://localhost:8080/",
          "height": 353
        },
        "outputId": "b09c38e9-c4ae-488a-84c9-1b6528e2bfd0"
      },
      "source": [
        "import matplotlib.pyplot as plt\n",
        "\n",
        "plt.boxplot([notas.rating, notas1[3:12].rating], labels=[\"Todas as notas\", \"Toy Story (do 3 ao 12)\"])\n",
        "plt.title(\"Distribuição das notas de acordo com filmes\")"
      ],
      "execution_count": 68,
      "outputs": [
        {
          "output_type": "stream",
          "name": "stderr",
          "text": [
            "/usr/local/lib/python3.7/dist-packages/numpy/core/_asarray.py:83: VisibleDeprecationWarning: Creating an ndarray from ragged nested sequences (which is a list-or-tuple of lists-or-tuples-or ndarrays with different lengths or shapes) is deprecated. If you meant to do this, you must specify 'dtype=object' when creating the ndarray\n",
            "  return array(a, dtype, copy=False, order=order)\n"
          ]
        },
        {
          "output_type": "execute_result",
          "data": {
            "text/plain": [
              "Text(0.5, 1.0, 'Distribuição das notas de acordo com filmes')"
            ]
          },
          "metadata": {},
          "execution_count": 68
        },
        {
          "output_type": "display_data",
          "data": {
            "image/png": "[encoded data removed]",
            "text/plain": [
              "<Figure size 432x288 with 1 Axes>"
            ]
          },
          "metadata": {
            "needs_background": "light"
          }
        }
      ]
    },
    {
      "cell_type": "code",
      "metadata": {
        "id": "SYUG8jMjaeww",
        "colab": {
          "base_uri": "https://localhost:8080/",
          "height": 79
        },
        "outputId": "e943af0e-cc81-4367-fa80-d845562a3040"
      },
      "source": [
        "descr_todas_as_notas = DescrStatsW(notas.rating)\n",
        "descr_toystory = DescrStatsW(notas1[3:12].rating)\n",
        "comparacao = descr_todas_as_notas.get_compare(descr_toystory)\n",
        "\n",
        "comparacao.summary(use_t=True)"
      ],
      "execution_count": 69,
      "outputs": [
        {
          "output_type": "execute_result",
          "data": {
            "text/html": [
              "<table class=\"simpletable\">\n",
              "<caption>Test for equality of means</caption>\n",
              "<tr>\n",
              "      <td></td>         <th>coef</th>     <th>std err</th>      <th>t</th>      <th>P>|t|</th>  <th>[0.025</th>    <th>0.975]</th>  \n",
              "</tr>\n",
              "<tr>\n",
              "  <th>subset #1</th> <td>   -0.0540</td> <td>    0.348</td> <td>   -0.155</td> <td> 0.877</td> <td>   -0.735</td> <td>    0.627</td>\n",
              "</tr>\n",
              "</table>"
            ],
            "text/plain": [
              "<class 'statsmodels.iolib.table.SimpleTable'>"
            ]
          },
          "metadata": {},
          "execution_count": 69
        }
      ]
    },
    {
      "cell_type": "markdown",
      "metadata": {
        "id": "E4VVVw1DcQqu"
      },
      "source": [
        "# Comparar a média de dois filmes"
      ]
    },
    {
      "cell_type": "code",
      "metadata": {
        "id": "eDMDIsDXcaED",
        "outputId": "636cbb11-0bd2-4900-eb81-c8f08bd9f7d3",
        "colab": {
          "base_uri": "https://localhost:8080/",
          "height": 143
        }
      },
      "source": [
        "# Filtrando os filmes\n",
        "filmes.query(\"movieId in [1, 593, 72226]\")"
      ],
      "execution_count": 71,
      "outputs": [
        {
          "output_type": "execute_result",
          "data": {
            "text/html": [
              "<div>\n",
              "<style scoped>\n",
              "    .dataframe tbody tr th:only-of-type {\n",
              "        vertical-align: middle;\n",
              "    }\n",
              "\n",
              "    .dataframe tbody tr th {\n",
              "        vertical-align: top;\n",
              "    }\n",
              "\n",
              "    .dataframe thead th {\n",
              "        text-align: right;\n",
              "    }\n",
              "</style>\n",
              "<table border=\"1\" class=\"dataframe\">\n",
              "  <thead>\n",
              "    <tr style=\"text-align: right;\">\n",
              "      <th></th>\n",
              "      <th>movieId</th>\n",
              "      <th>title</th>\n",
              "      <th>genres</th>\n",
              "    </tr>\n",
              "  </thead>\n",
              "  <tbody>\n",
              "    <tr>\n",
              "      <th>0</th>\n",
              "      <td>1</td>\n",
              "      <td>Toy Story (1995)</td>\n",
              "      <td>Adventure|Animation|Children|Comedy|Fantasy</td>\n",
              "    </tr>\n",
              "    <tr>\n",
              "      <th>510</th>\n",
              "      <td>593</td>\n",
              "      <td>Silence of the Lambs, The (1991)</td>\n",
              "      <td>Crime|Horror|Thriller</td>\n",
              "    </tr>\n",
              "    <tr>\n",
              "      <th>7180</th>\n",
              "      <td>72226</td>\n",
              "      <td>Fantastic Mr. Fox (2009)</td>\n",
              "      <td>Adventure|Animation|Children|Comedy|Crime</td>\n",
              "    </tr>\n",
              "  </tbody>\n",
              "</table>\n",
              "</div>"
            ],
            "text/plain": [
              "      movieId  ...                                       genres\n",
              "0           1  ...  Adventure|Animation|Children|Comedy|Fantasy\n",
              "510       593  ...                        Crime|Horror|Thriller\n",
              "7180    72226  ...    Adventure|Animation|Children|Comedy|Crime\n",
              "\n",
              "[3 rows x 3 columns]"
            ]
          },
          "metadata": {},
          "execution_count": 71
        }
      ]
    },
    {
      "cell_type": "code",
      "metadata": {
        "id": "i8_RTQlNd4kK",
        "outputId": "75ba5087-00a7-4436-ddbf-4650314060c2",
        "colab": {
          "base_uri": "https://localhost:8080/",
          "height": 353
        }
      },
      "source": [
        "# Gerando os Boxplots dos 3 filmes com Pyplot\n",
        "notas1 = notas.query(\"movieId == 1\")\n",
        "notas593 = notas.query(\"movieId == 593\")\n",
        "notas72226 = notas.query(\"movieId == 72226\")\n",
        "\n",
        "plt.boxplot([notas1.rating, notas593.rating, notas72226.rating], labels=[\"Toy Story\", \"Silence of the Lambs,\", \"Fantastic Mr. Fox\"])\n",
        "plt.title(\"Distribuição das notas de acordo com filmes\")"
      ],
      "execution_count": 76,
      "outputs": [
        {
          "output_type": "stream",
          "name": "stderr",
          "text": [
            "/usr/local/lib/python3.7/dist-packages/numpy/core/_asarray.py:83: VisibleDeprecationWarning: Creating an ndarray from ragged nested sequences (which is a list-or-tuple of lists-or-tuples-or ndarrays with different lengths or shapes) is deprecated. If you meant to do this, you must specify 'dtype=object' when creating the ndarray\n",
            "  return array(a, dtype, copy=False, order=order)\n"
          ]
        },
        {
          "output_type": "execute_result",
          "data": {
            "text/plain": [
              "Text(0.5, 1.0, 'Distribuição das notas de acordo com filmes')"
            ]
          },
          "metadata": {},
          "execution_count": 76
        },
        {
          "output_type": "display_data",
          "data": {
            "image/png": "[encoded data removed]",
            "text/plain": [
              "<Figure size 432x288 with 1 Axes>"
            ]
          },
          "metadata": {
            "needs_background": "light"
          }
        }
      ]
    },
    {
      "cell_type": "code",
      "metadata": {
        "id": "SJ7OQgpJjBFp",
        "outputId": "dce728cc-7113-4791-9461-4189ec8a64fe",
        "colab": {
          "base_uri": "https://localhost:8080/",
          "height": 300
        }
      },
      "source": [
        "# Utilizando o describe para checar as informações de determinado filme\n",
        "notas72226.describe()"
      ],
      "execution_count": 77,
      "outputs": [
        {
          "output_type": "execute_result",
          "data": {
            "text/html": [
              "<div>\n",
              "<style scoped>\n",
              "    .dataframe tbody tr th:only-of-type {\n",
              "        vertical-align: middle;\n",
              "    }\n",
              "\n",
              "    .dataframe tbody tr th {\n",
              "        vertical-align: top;\n",
              "    }\n",
              "\n",
              "    .dataframe thead th {\n",
              "        text-align: right;\n",
              "    }\n",
              "</style>\n",
              "<table border=\"1\" class=\"dataframe\">\n",
              "  <thead>\n",
              "    <tr style=\"text-align: right;\">\n",
              "      <th></th>\n",
              "      <th>userId</th>\n",
              "      <th>movieId</th>\n",
              "      <th>rating</th>\n",
              "      <th>timestamp</th>\n",
              "    </tr>\n",
              "  </thead>\n",
              "  <tbody>\n",
              "    <tr>\n",
              "      <th>count</th>\n",
              "      <td>18.000000</td>\n",
              "      <td>18.0</td>\n",
              "      <td>18.000000</td>\n",
              "      <td>1.800000e+01</td>\n",
              "    </tr>\n",
              "    <tr>\n",
              "      <th>mean</th>\n",
              "      <td>329.722222</td>\n",
              "      <td>72226.0</td>\n",
              "      <td>4.083333</td>\n",
              "      <td>1.395218e+09</td>\n",
              "    </tr>\n",
              "    <tr>\n",
              "      <th>std</th>\n",
              "      <td>174.748157</td>\n",
              "      <td>0.0</td>\n",
              "      <td>0.895249</td>\n",
              "      <td>9.459862e+07</td>\n",
              "    </tr>\n",
              "    <tr>\n",
              "      <th>min</th>\n",
              "      <td>73.000000</td>\n",
              "      <td>72226.0</td>\n",
              "      <td>1.500000</td>\n",
              "      <td>1.262899e+09</td>\n",
              "    </tr>\n",
              "    <tr>\n",
              "      <th>25%</th>\n",
              "      <td>167.000000</td>\n",
              "      <td>72226.0</td>\n",
              "      <td>4.000000</td>\n",
              "      <td>1.279706e+09</td>\n",
              "    </tr>\n",
              "    <tr>\n",
              "      <th>50%</th>\n",
              "      <td>326.000000</td>\n",
              "      <td>72226.0</td>\n",
              "      <td>4.250000</td>\n",
              "      <td>1.441777e+09</td>\n",
              "    </tr>\n",
              "    <tr>\n",
              "      <th>75%</th>\n",
              "      <td>466.250000</td>\n",
              "      <td>72226.0</td>\n",
              "      <td>4.500000</td>\n",
              "      <td>1.471770e+09</td>\n",
              "    </tr>\n",
              "    <tr>\n",
              "      <th>max</th>\n",
              "      <td>610.000000</td>\n",
              "      <td>72226.0</td>\n",
              "      <td>5.000000</td>\n",
              "      <td>1.498522e+09</td>\n",
              "    </tr>\n",
              "  </tbody>\n",
              "</table>\n",
              "</div>"
            ],
            "text/plain": [
              "           userId  movieId     rating     timestamp\n",
              "count   18.000000     18.0  18.000000  1.800000e+01\n",
              "mean   329.722222  72226.0   4.083333  1.395218e+09\n",
              "std    174.748157      0.0   0.895249  9.459862e+07\n",
              "min     73.000000  72226.0   1.500000  1.262899e+09\n",
              "25%    167.000000  72226.0   4.000000  1.279706e+09\n",
              "50%    326.000000  72226.0   4.250000  1.441777e+09\n",
              "75%    466.250000  72226.0   4.500000  1.471770e+09\n",
              "max    610.000000  72226.0   5.000000  1.498522e+09"
            ]
          },
          "metadata": {},
          "execution_count": 77
        }
      ]
    },
    {
      "cell_type": "code",
      "metadata": {
        "id": "Nc6QzZWGj8Ea",
        "outputId": "dcf2b13a-4d65-4962-e611-eba35ab7d308",
        "colab": {
          "base_uri": "https://localhost:8080/",
          "height": 296
        }
      },
      "source": [
        "# Gerando os Boxplots dos 3 Filmes com Seaborn\n",
        "sns.boxplot(x = \"movieId\", y = \"rating\", data= notas.query(\"movieId in (1, 593, 72226)\"))"
      ],
      "execution_count": 78,
      "outputs": [
        {
          "output_type": "execute_result",
          "data": {
            "text/plain": [
              "<matplotlib.axes._subplots.AxesSubplot at 0x7f1f9ffbec50>"
            ]
          },
          "metadata": {},
          "execution_count": 78
        },
        {
          "output_type": "display_data",
          "data": {
            "image/png": "[encoded data removed]",
            "text/plain": [
              "<Figure size 432x288 with 1 Axes>"
            ]
          },
          "metadata": {
            "needs_background": "light"
          }
        }
      ]
    },
    {
      "cell_type": "code",
      "metadata": {
        "id": "ddwZJEUsk6cV",
        "outputId": "c0edd830-ace0-4beb-cf0a-9828ed699363",
        "colab": {
          "base_uri": "https://localhost:8080/",
          "height": 79
        }
      },
      "source": [
        "# Comparando os Filmes Toy Story e Silence of the Lambs\n",
        "descr_1 = DescrStatsW(notas1.rating)\n",
        "descr_593 = DescrStatsW(notas593.rating)\n",
        "comparacao = descr_1.get_compare(descr_593)\n",
        "\n",
        "comparacao.summary()"
      ],
      "execution_count": 79,
      "outputs": [
        {
          "output_type": "execute_result",
          "data": {
            "text/html": [
              "<table class=\"simpletable\">\n",
              "<caption>Test for equality of means</caption>\n",
              "<tr>\n",
              "      <td></td>         <th>coef</th>     <th>std err</th>      <th>t</th>      <th>P>|t|</th>  <th>[0.025</th>    <th>0.975]</th>  \n",
              "</tr>\n",
              "<tr>\n",
              "  <th>subset #1</th> <td>   -0.2404</td> <td>    0.077</td> <td>   -3.132</td> <td> 0.002</td> <td>   -0.391</td> <td>   -0.090</td>\n",
              "</tr>\n",
              "</table>"
            ],
            "text/plain": [
              "<class 'statsmodels.iolib.table.SimpleTable'>"
            ]
          },
          "metadata": {},
          "execution_count": 79
        }
      ]
    },
    {
      "cell_type": "code",
      "metadata": {
        "id": "rkznctwSm3ys",
        "outputId": "9ceff4ec-b105-4e6f-d84a-b27e25b66c38",
        "colab": {
          "base_uri": "https://localhost:8080/",
          "height": 79
        }
      },
      "source": [
        "# Comparando os Filmes Silence of the Lambs e Fantastic Mr. Fox\n",
        "\n",
        "descr_72226 = DescrStatsW(notas72226.rating)\n",
        "descr_593 = DescrStatsW(notas593.rating)\n",
        "comparacao = descr_72226.get_compare(descr_593)\n",
        "\n",
        "comparacao.summary()"
      ],
      "execution_count": 81,
      "outputs": [
        {
          "output_type": "execute_result",
          "data": {
            "text/html": [
              "<table class=\"simpletable\">\n",
              "<caption>Test for equality of means</caption>\n",
              "<tr>\n",
              "      <td></td>         <th>coef</th>     <th>std err</th>      <th>t</th>      <th>P>|t|</th>  <th>[0.025</th>    <th>0.975]</th>  \n",
              "</tr>\n",
              "<tr>\n",
              "  <th>subset #1</th> <td>   -0.0780</td> <td>    0.208</td> <td>   -0.374</td> <td> 0.708</td> <td>   -0.488</td> <td>    0.332</td>\n",
              "</tr>\n",
              "</table>"
            ],
            "text/plain": [
              "<class 'statsmodels.iolib.table.SimpleTable'>"
            ]
          },
          "metadata": {},
          "execution_count": 81
        }
      ]
    },
    {
      "cell_type": "code",
      "metadata": {
        "id": "52our4PAoE05",
        "outputId": "ff899cde-c1e3-47dc-e097-3fea1c6f27c9",
        "colab": {
          "base_uri": "https://localhost:8080/",
          "height": 79
        }
      },
      "source": [
        "# Comparando os Filmes Toy Story e Fantastic Mr. Fox\n",
        "\n",
        "comparacao = descr_1.get_compare(descr_72226)\n",
        "\n",
        "comparacao.summary()"
      ],
      "execution_count": 86,
      "outputs": [
        {
          "output_type": "execute_result",
          "data": {
            "text/html": [
              "<table class=\"simpletable\">\n",
              "<caption>Test for equality of means</caption>\n",
              "<tr>\n",
              "      <td></td>         <th>coef</th>     <th>std err</th>      <th>t</th>      <th>P>|t|</th>  <th>[0.025</th>    <th>0.975]</th>  \n",
              "</tr>\n",
              "<tr>\n",
              "  <th>subset #1</th> <td>   -0.1624</td> <td>    0.206</td> <td>   -0.788</td> <td> 0.431</td> <td>   -0.568</td> <td>    0.243</td>\n",
              "</tr>\n",
              "</table>"
            ],
            "text/plain": [
              "<class 'statsmodels.iolib.table.SimpleTable'>"
            ]
          },
          "metadata": {},
          "execution_count": 86
        }
      ]
    },
    {
      "cell_type": "code",
      "metadata": {
        "id": "ecoyJDSno0hy",
        "outputId": "9fb0da29-11b3-421b-d4fc-89afde65bc1e",
        "colab": {
          "base_uri": "https://localhost:8080/",
          "height": 175
        }
      },
      "source": [
        "# Analisando quantas notas cada um dos filmes possui\n",
        "\n",
        "notas.query(\"movieId in (1, 593, 72226)\").groupby(\"movieId\").count()"
      ],
      "execution_count": 83,
      "outputs": [
        {
          "output_type": "execute_result",
          "data": {
            "text/html": [
              "<div>\n",
              "<style scoped>\n",
              "    .dataframe tbody tr th:only-of-type {\n",
              "        vertical-align: middle;\n",
              "    }\n",
              "\n",
              "    .dataframe tbody tr th {\n",
              "        vertical-align: top;\n",
              "    }\n",
              "\n",
              "    .dataframe thead th {\n",
              "        text-align: right;\n",
              "    }\n",
              "</style>\n",
              "<table border=\"1\" class=\"dataframe\">\n",
              "  <thead>\n",
              "    <tr style=\"text-align: right;\">\n",
              "      <th></th>\n",
              "      <th>userId</th>\n",
              "      <th>rating</th>\n",
              "      <th>timestamp</th>\n",
              "    </tr>\n",
              "    <tr>\n",
              "      <th>movieId</th>\n",
              "      <th></th>\n",
              "      <th></th>\n",
              "      <th></th>\n",
              "    </tr>\n",
              "  </thead>\n",
              "  <tbody>\n",
              "    <tr>\n",
              "      <th>1</th>\n",
              "      <td>215</td>\n",
              "      <td>215</td>\n",
              "      <td>215</td>\n",
              "    </tr>\n",
              "    <tr>\n",
              "      <th>593</th>\n",
              "      <td>279</td>\n",
              "      <td>279</td>\n",
              "      <td>279</td>\n",
              "    </tr>\n",
              "    <tr>\n",
              "      <th>72226</th>\n",
              "      <td>18</td>\n",
              "      <td>18</td>\n",
              "      <td>18</td>\n",
              "    </tr>\n",
              "  </tbody>\n",
              "</table>\n",
              "</div>"
            ],
            "text/plain": [
              "         userId  rating  timestamp\n",
              "movieId                           \n",
              "1           215     215        215\n",
              "593         279     279        279\n",
              "72226        18      18         18"
            ]
          },
          "metadata": {},
          "execution_count": 83
        }
      ]
    }
  ]
}